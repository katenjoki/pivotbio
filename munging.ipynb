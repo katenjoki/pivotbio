{
 "cells": [
  {
   "cell_type": "code",
   "execution_count": 1,
   "metadata": {},
   "outputs": [],
   "source": [
    "import pandas as pd\n",
    "import glob\n",
    "import os\n",
    "import seaborn as sns\n",
    "import matplotlib.pyplot as plt\n",
    "import datacompy"
   ]
  },
  {
   "cell_type": "code",
   "execution_count": 2,
   "metadata": {},
   "outputs": [],
   "source": [
    "'''the get_agrodata function loops through all the csv files in our agronomist data path,melts each dataframe so as to create new \n",
    "columns variable and value_agronomist which contain the response variable and values per response variables respectively\n",
    "This creates a uniform structure in both datasets'''\n",
    "def get_agrodata(dataset_path):\n",
    "    list_df =[]\n",
    "    all_files = glob.glob(dataset_path+ \"/*.csv\")\n",
    "    for f in all_files:\n",
    "        df = pd.read_csv(f,sep=',')\n",
    "        df = df.melt(id_vars=['Trial ID', 'reps', 'Plot No.', 'Rate Unit', 'Appl Timing'], var_name='variable', \n",
    "        value_name=\"value_agronomist\")\n",
    "        df[['variable','sample__planned_growth_stage']] = df.variable.str.split(\" \",expand=True)\n",
    "        list_df.append(df)\n",
    "    df_agro = pd.concat(list_df,ignore_index=True)\n",
    "    return df_agro    "
   ]
  },
  {
   "cell_type": "code",
   "execution_count": 3,
   "metadata": {},
   "outputs": [
    {
     "data": {
      "text/html": [
       "<div>\n",
       "<style scoped>\n",
       "    .dataframe tbody tr th:only-of-type {\n",
       "        vertical-align: middle;\n",
       "    }\n",
       "\n",
       "    .dataframe tbody tr th {\n",
       "        vertical-align: top;\n",
       "    }\n",
       "\n",
       "    .dataframe thead th {\n",
       "        text-align: right;\n",
       "    }\n",
       "</style>\n",
       "<table border=\"1\" class=\"dataframe\">\n",
       "  <thead>\n",
       "    <tr style=\"text-align: right;\">\n",
       "      <th></th>\n",
       "      <th>Trial ID</th>\n",
       "      <th>reps</th>\n",
       "      <th>Plot No.</th>\n",
       "      <th>Rate Unit</th>\n",
       "      <th>Appl Timing</th>\n",
       "      <th>variable</th>\n",
       "      <th>value_agronomist</th>\n",
       "      <th>sample__planned_growth_stage</th>\n",
       "    </tr>\n",
       "  </thead>\n",
       "  <tbody>\n",
       "    <tr>\n",
       "      <th>0</th>\n",
       "      <td>alanine-cup-tango-hotel-oven-pasta</td>\n",
       "      <td>1</td>\n",
       "      <td>103</td>\n",
       "      <td></td>\n",
       "      <td></td>\n",
       "      <td>dry_weight_g</td>\n",
       "      <td>15.76</td>\n",
       "      <td>V6-V7</td>\n",
       "    </tr>\n",
       "    <tr>\n",
       "      <th>1</th>\n",
       "      <td>alanine-cup-tango-hotel-oven-pasta</td>\n",
       "      <td>2</td>\n",
       "      <td>201</td>\n",
       "      <td></td>\n",
       "      <td></td>\n",
       "      <td>dry_weight_g</td>\n",
       "      <td>16.12</td>\n",
       "      <td>V6-V7</td>\n",
       "    </tr>\n",
       "    <tr>\n",
       "      <th>2</th>\n",
       "      <td>alanine-cup-tango-hotel-oven-pasta</td>\n",
       "      <td>3</td>\n",
       "      <td>304</td>\n",
       "      <td></td>\n",
       "      <td></td>\n",
       "      <td>dry_weight_g</td>\n",
       "      <td>12.16</td>\n",
       "      <td>V6-V7</td>\n",
       "    </tr>\n",
       "    <tr>\n",
       "      <th>3</th>\n",
       "      <td>alanine-cup-tango-hotel-oven-pasta</td>\n",
       "      <td>4</td>\n",
       "      <td>403</td>\n",
       "      <td></td>\n",
       "      <td></td>\n",
       "      <td>dry_weight_g</td>\n",
       "      <td>5.48</td>\n",
       "      <td>V6-V7</td>\n",
       "    </tr>\n",
       "    <tr>\n",
       "      <th>4</th>\n",
       "      <td>alanine-cup-tango-hotel-oven-pasta</td>\n",
       "      <td>5</td>\n",
       "      <td>507</td>\n",
       "      <td></td>\n",
       "      <td></td>\n",
       "      <td>dry_weight_g</td>\n",
       "      <td>9.68</td>\n",
       "      <td>V6-V7</td>\n",
       "    </tr>\n",
       "  </tbody>\n",
       "</table>\n",
       "</div>"
      ],
      "text/plain": [
       "                             Trial ID  reps  Plot No. Rate Unit Appl Timing  \\\n",
       "0  alanine-cup-tango-hotel-oven-pasta     1       103                         \n",
       "1  alanine-cup-tango-hotel-oven-pasta     2       201                         \n",
       "2  alanine-cup-tango-hotel-oven-pasta     3       304                         \n",
       "3  alanine-cup-tango-hotel-oven-pasta     4       403                         \n",
       "4  alanine-cup-tango-hotel-oven-pasta     5       507                         \n",
       "\n",
       "       variable value_agronomist sample__planned_growth_stage  \n",
       "0  dry_weight_g            15.76                        V6-V7  \n",
       "1  dry_weight_g            16.12                        V6-V7  \n",
       "2  dry_weight_g            12.16                        V6-V7  \n",
       "3  dry_weight_g             5.48                        V6-V7  \n",
       "4  dry_weight_g             9.68                        V6-V7  "
      ]
     },
     "execution_count": 3,
     "metadata": {},
     "output_type": "execute_result"
    }
   ],
   "source": [
    "DATASET_PATH = \"data/agronomist\"\n",
    "df = get_agrodata(DATASET_PATH)\n",
    "df.head()"
   ]
  },
  {
   "cell_type": "code",
   "execution_count": 4,
   "metadata": {},
   "outputs": [
    {
     "data": {
      "text/plain": [
       "0"
      ]
     },
     "execution_count": 4,
     "metadata": {},
     "output_type": "execute_result"
    }
   ],
   "source": [
    "(df.isnull().sum()).sum()"
   ]
  },
  {
   "cell_type": "code",
   "execution_count": 5,
   "metadata": {},
   "outputs": [
    {
     "data": {
      "text/plain": [
       "array(['dry_weight_g', 'total_n_g'], dtype=object)"
      ]
     },
     "execution_count": 5,
     "metadata": {},
     "output_type": "execute_result"
    }
   ],
   "source": [
    "df.variable.unique()"
   ]
  },
  {
   "cell_type": "code",
   "execution_count": 6,
   "metadata": {},
   "outputs": [
    {
     "data": {
      "text/plain": [
       "(460, 8)"
      ]
     },
     "execution_count": 6,
     "metadata": {},
     "output_type": "execute_result"
    }
   ],
   "source": [
    "#check for empty values\n",
    "df[df['value_agronomist']==' '].shape"
   ]
  },
  {
   "cell_type": "code",
   "execution_count": 7,
   "metadata": {},
   "outputs": [],
   "source": [
    "#replace all empty cells with 0\n",
    "df = df.replace(r'^\\s*$', 0, regex=True)\n",
    "df.value_agronomist = df.value_agronomist.astype('float64')"
   ]
  },
  {
   "cell_type": "code",
   "execution_count": 8,
   "metadata": {},
   "outputs": [
    {
     "data": {
      "text/html": [
       "<div>\n",
       "<style scoped>\n",
       "    .dataframe tbody tr th:only-of-type {\n",
       "        vertical-align: middle;\n",
       "    }\n",
       "\n",
       "    .dataframe tbody tr th {\n",
       "        vertical-align: top;\n",
       "    }\n",
       "\n",
       "    .dataframe thead th {\n",
       "        text-align: right;\n",
       "    }\n",
       "</style>\n",
       "<table border=\"1\" class=\"dataframe\">\n",
       "  <thead>\n",
       "    <tr style=\"text-align: right;\">\n",
       "      <th></th>\n",
       "      <th>protocol__name</th>\n",
       "      <th>experiment__name</th>\n",
       "      <th>experiment__trial_id</th>\n",
       "      <th>plot__name</th>\n",
       "      <th>plot__lookup_key</th>\n",
       "      <th>sample__name</th>\n",
       "      <th>sample__planned_growth_stage</th>\n",
       "      <th>sample__items_per_sample</th>\n",
       "      <th>measurement_name</th>\n",
       "      <th>measurement_date</th>\n",
       "      <th>analytical_method</th>\n",
       "      <th>variable</th>\n",
       "      <th>value</th>\n",
       "    </tr>\n",
       "  </thead>\n",
       "  <tbody>\n",
       "    <tr>\n",
       "      <th>0</th>\n",
       "      <td>20-ZEAMX-US403</td>\n",
       "      <td>FTR355</td>\n",
       "      <td>nine-texas-march-texas-chicken-hotel</td>\n",
       "      <td>FTR355.BLOCK01.REP01.PLOT101</td>\n",
       "      <td>101</td>\n",
       "      <td>FTR355.BLOCK01.REP01.PLOT101.T.002</td>\n",
       "      <td>VT</td>\n",
       "      <td>3</td>\n",
       "      <td>FTR355.BLOCK01.REP01.PLOT101.T.002.01</td>\n",
       "      <td>2020-08-07 13:32:59</td>\n",
       "      <td>NaN</td>\n",
       "      <td>dry_weight_g</td>\n",
       "      <td>361.5</td>\n",
       "    </tr>\n",
       "    <tr>\n",
       "      <th>1</th>\n",
       "      <td>20-ZEAMX-US403</td>\n",
       "      <td>FTR336</td>\n",
       "      <td>may-march-bacon-winter-batman-white</td>\n",
       "      <td>FTR336.BLOCK01.REP01.PLOT101</td>\n",
       "      <td>101</td>\n",
       "      <td>FTR336.BLOCK01.REP01.PLOT101.T.003</td>\n",
       "      <td>VT</td>\n",
       "      <td>3</td>\n",
       "      <td>FTR336.BLOCK01.REP01.PLOT101.T.003.01</td>\n",
       "      <td>2020-10-12 12:27:00</td>\n",
       "      <td>NaN</td>\n",
       "      <td>dry_weight_g</td>\n",
       "      <td>255.0</td>\n",
       "    </tr>\n",
       "    <tr>\n",
       "      <th>2</th>\n",
       "      <td>20-ZEAMX-US403</td>\n",
       "      <td>FTR336</td>\n",
       "      <td>may-march-bacon-winter-batman-white</td>\n",
       "      <td>FTR336.BLOCK01.REP02.PLOT201</td>\n",
       "      <td>201</td>\n",
       "      <td>FTR336.BLOCK01.REP02.PLOT201.T.003</td>\n",
       "      <td>VT</td>\n",
       "      <td>3</td>\n",
       "      <td>FTR336.BLOCK01.REP02.PLOT201.T.003.01</td>\n",
       "      <td>2020-10-12 12:27:00</td>\n",
       "      <td>NaN</td>\n",
       "      <td>dry_weight_g</td>\n",
       "      <td>311.7</td>\n",
       "    </tr>\n",
       "    <tr>\n",
       "      <th>3</th>\n",
       "      <td>20-ZEAMX-US403</td>\n",
       "      <td>FTR336</td>\n",
       "      <td>may-march-bacon-winter-batman-white</td>\n",
       "      <td>FTR336.BLOCK01.REP04.PLOT405</td>\n",
       "      <td>405</td>\n",
       "      <td>FTR336.BLOCK01.REP04.PLOT405.T.002</td>\n",
       "      <td>VT</td>\n",
       "      <td>3</td>\n",
       "      <td>FTR336.BLOCK01.REP04.PLOT405.T.002.01</td>\n",
       "      <td>2020-10-12 12:27:00</td>\n",
       "      <td>NaN</td>\n",
       "      <td>dry_weight_g</td>\n",
       "      <td>256.1</td>\n",
       "    </tr>\n",
       "    <tr>\n",
       "      <th>4</th>\n",
       "      <td>20-ZEAMX-US403</td>\n",
       "      <td>FTR336</td>\n",
       "      <td>may-march-bacon-winter-batman-white</td>\n",
       "      <td>FTR336.BLOCK01.REP04.PLOT409</td>\n",
       "      <td>409</td>\n",
       "      <td>FTR336.BLOCK01.REP04.PLOT409.T.002</td>\n",
       "      <td>VT</td>\n",
       "      <td>3</td>\n",
       "      <td>FTR336.BLOCK01.REP04.PLOT409.T.002.01</td>\n",
       "      <td>2020-10-12 12:27:00</td>\n",
       "      <td>NaN</td>\n",
       "      <td>dry_weight_g</td>\n",
       "      <td>269.9</td>\n",
       "    </tr>\n",
       "  </tbody>\n",
       "</table>\n",
       "</div>"
      ],
      "text/plain": [
       "   protocol__name experiment__name                  experiment__trial_id  \\\n",
       "0  20-ZEAMX-US403           FTR355  nine-texas-march-texas-chicken-hotel   \n",
       "1  20-ZEAMX-US403           FTR336   may-march-bacon-winter-batman-white   \n",
       "2  20-ZEAMX-US403           FTR336   may-march-bacon-winter-batman-white   \n",
       "3  20-ZEAMX-US403           FTR336   may-march-bacon-winter-batman-white   \n",
       "4  20-ZEAMX-US403           FTR336   may-march-bacon-winter-batman-white   \n",
       "\n",
       "                     plot__name  plot__lookup_key  \\\n",
       "0  FTR355.BLOCK01.REP01.PLOT101               101   \n",
       "1  FTR336.BLOCK01.REP01.PLOT101               101   \n",
       "2  FTR336.BLOCK01.REP02.PLOT201               201   \n",
       "3  FTR336.BLOCK01.REP04.PLOT405               405   \n",
       "4  FTR336.BLOCK01.REP04.PLOT409               409   \n",
       "\n",
       "                         sample__name sample__planned_growth_stage  \\\n",
       "0  FTR355.BLOCK01.REP01.PLOT101.T.002                           VT   \n",
       "1  FTR336.BLOCK01.REP01.PLOT101.T.003                           VT   \n",
       "2  FTR336.BLOCK01.REP02.PLOT201.T.003                           VT   \n",
       "3  FTR336.BLOCK01.REP04.PLOT405.T.002                           VT   \n",
       "4  FTR336.BLOCK01.REP04.PLOT409.T.002                           VT   \n",
       "\n",
       "   sample__items_per_sample                       measurement_name  \\\n",
       "0                         3  FTR355.BLOCK01.REP01.PLOT101.T.002.01   \n",
       "1                         3  FTR336.BLOCK01.REP01.PLOT101.T.003.01   \n",
       "2                         3  FTR336.BLOCK01.REP02.PLOT201.T.003.01   \n",
       "3                         3  FTR336.BLOCK01.REP04.PLOT405.T.002.01   \n",
       "4                         3  FTR336.BLOCK01.REP04.PLOT409.T.002.01   \n",
       "\n",
       "      measurement_date analytical_method      variable  value  \n",
       "0  2020-08-07 13:32:59               NaN  dry_weight_g  361.5  \n",
       "1  2020-10-12 12:27:00               NaN  dry_weight_g  255.0  \n",
       "2  2020-10-12 12:27:00               NaN  dry_weight_g  311.7  \n",
       "3  2020-10-12 12:27:00               NaN  dry_weight_g  256.1  \n",
       "4  2020-10-12 12:27:00               NaN  dry_weight_g  269.9  "
      ]
     },
     "execution_count": 8,
     "metadata": {},
     "output_type": "execute_result"
    }
   ],
   "source": [
    "dw = pd.read_csv(\"data/data_warehouse/dw_data.csv\")\n",
    "dw.head()"
   ]
  },
  {
   "cell_type": "code",
   "execution_count": 9,
   "metadata": {},
   "outputs": [
    {
     "data": {
      "text/html": [
       "<div>\n",
       "<style scoped>\n",
       "    .dataframe tbody tr th:only-of-type {\n",
       "        vertical-align: middle;\n",
       "    }\n",
       "\n",
       "    .dataframe tbody tr th {\n",
       "        vertical-align: top;\n",
       "    }\n",
       "\n",
       "    .dataframe thead th {\n",
       "        text-align: right;\n",
       "    }\n",
       "</style>\n",
       "<table border=\"1\" class=\"dataframe\">\n",
       "  <thead>\n",
       "    <tr style=\"text-align: right;\">\n",
       "      <th></th>\n",
       "      <th>protocol__name</th>\n",
       "      <th>experiment__name</th>\n",
       "      <th>Trial ID</th>\n",
       "      <th>plot__name</th>\n",
       "      <th>Plot No.</th>\n",
       "      <th>sample__name</th>\n",
       "      <th>sample__planned_growth_stage</th>\n",
       "      <th>sample__items_per_sample</th>\n",
       "      <th>measurement_name</th>\n",
       "      <th>measurement_date</th>\n",
       "      <th>analytical_method</th>\n",
       "      <th>variable</th>\n",
       "      <th>value</th>\n",
       "    </tr>\n",
       "  </thead>\n",
       "  <tbody>\n",
       "    <tr>\n",
       "      <th>107</th>\n",
       "      <td>20-ZEAMX-US403</td>\n",
       "      <td>FTR337</td>\n",
       "      <td>delaware-queen-angel-artist-green-south</td>\n",
       "      <td>FTR337.BLOCK01.REP04.PLOT402</td>\n",
       "      <td>402</td>\n",
       "      <td>FTR337.BLOCK01.REP04.PLOT402.T.002</td>\n",
       "      <td>VT</td>\n",
       "      <td>3</td>\n",
       "      <td>FTR337.BLOCK01.REP04.PLOT402.T.002.01</td>\n",
       "      <td>2020-08-31 12:20:59</td>\n",
       "      <td>NaN</td>\n",
       "      <td>dry_weight_g</td>\n",
       "      <td>251.4</td>\n",
       "    </tr>\n",
       "  </tbody>\n",
       "</table>\n",
       "</div>"
      ],
      "text/plain": [
       "     protocol__name experiment__name                                 Trial ID  \\\n",
       "107  20-ZEAMX-US403           FTR337  delaware-queen-angel-artist-green-south   \n",
       "\n",
       "                       plot__name  Plot No.  \\\n",
       "107  FTR337.BLOCK01.REP04.PLOT402       402   \n",
       "\n",
       "                           sample__name sample__planned_growth_stage  \\\n",
       "107  FTR337.BLOCK01.REP04.PLOT402.T.002                           VT   \n",
       "\n",
       "     sample__items_per_sample                       measurement_name  \\\n",
       "107                         3  FTR337.BLOCK01.REP04.PLOT402.T.002.01   \n",
       "\n",
       "        measurement_date analytical_method      variable  value  \n",
       "107  2020-08-31 12:20:59               NaN  dry_weight_g  251.4  "
      ]
     },
     "execution_count": 9,
     "metadata": {},
     "output_type": "execute_result"
    }
   ],
   "source": [
    "#rename columns for uniformity\n",
    "dw.rename(columns={'experiment__trial_id':'Trial ID','plot__lookup_key':'Plot No.'},inplace=True)\n",
    "dw.sample()"
   ]
  },
  {
   "cell_type": "code",
   "execution_count": 10,
   "metadata": {},
   "outputs": [
    {
     "data": {
      "text/html": [
       "<div>\n",
       "<style scoped>\n",
       "    .dataframe tbody tr th:only-of-type {\n",
       "        vertical-align: middle;\n",
       "    }\n",
       "\n",
       "    .dataframe tbody tr th {\n",
       "        vertical-align: top;\n",
       "    }\n",
       "\n",
       "    .dataframe thead th {\n",
       "        text-align: right;\n",
       "    }\n",
       "</style>\n",
       "<table border=\"1\" class=\"dataframe\">\n",
       "  <thead>\n",
       "    <tr style=\"text-align: right;\">\n",
       "      <th></th>\n",
       "      <th>protocol__name</th>\n",
       "      <th>experiment__name</th>\n",
       "      <th>Trial ID</th>\n",
       "      <th>plot__name</th>\n",
       "      <th>Plot No.</th>\n",
       "      <th>sample__name</th>\n",
       "      <th>sample__planned_growth_stage</th>\n",
       "      <th>sample__items_per_sample</th>\n",
       "      <th>measurement_name</th>\n",
       "      <th>measurement_date</th>\n",
       "      <th>analytical_method</th>\n",
       "      <th>variable</th>\n",
       "      <th>value</th>\n",
       "      <th>value_dw_adjusted</th>\n",
       "    </tr>\n",
       "  </thead>\n",
       "  <tbody>\n",
       "    <tr>\n",
       "      <th>6982</th>\n",
       "      <td>20-ZEAMX-US403</td>\n",
       "      <td>FTR362</td>\n",
       "      <td>mountain-november-chicken-avocado-magazine-oven</td>\n",
       "      <td>FTR362.BLOCK01.REP02.PLOT207</td>\n",
       "      <td>207</td>\n",
       "      <td>FTR362.BLOCK01.REP02.PLOT207.T.002</td>\n",
       "      <td>VT</td>\n",
       "      <td>3</td>\n",
       "      <td>FTR362.BLOCK01.REP02.PLOT207.T.002.01</td>\n",
       "      <td>2020-07-28 15:18:59</td>\n",
       "      <td>combustion</td>\n",
       "      <td>n_pct</td>\n",
       "      <td>2.48</td>\n",
       "      <td>0.826667</td>\n",
       "    </tr>\n",
       "  </tbody>\n",
       "</table>\n",
       "</div>"
      ],
      "text/plain": [
       "      protocol__name experiment__name  \\\n",
       "6982  20-ZEAMX-US403           FTR362   \n",
       "\n",
       "                                             Trial ID  \\\n",
       "6982  mountain-november-chicken-avocado-magazine-oven   \n",
       "\n",
       "                        plot__name  Plot No.  \\\n",
       "6982  FTR362.BLOCK01.REP02.PLOT207       207   \n",
       "\n",
       "                            sample__name sample__planned_growth_stage  \\\n",
       "6982  FTR362.BLOCK01.REP02.PLOT207.T.002                           VT   \n",
       "\n",
       "      sample__items_per_sample                       measurement_name  \\\n",
       "6982                         3  FTR362.BLOCK01.REP02.PLOT207.T.002.01   \n",
       "\n",
       "         measurement_date analytical_method variable  value  value_dw_adjusted  \n",
       "6982  2020-07-28 15:18:59        combustion    n_pct   2.48           0.826667  "
      ]
     },
     "execution_count": 10,
     "metadata": {},
     "output_type": "execute_result"
    }
   ],
   "source": [
    "dw['value_dw_adjusted'] = dw['value']/dw['sample__items_per_sample']\n",
    "dw.sample()"
   ]
  },
  {
   "cell_type": "code",
   "execution_count": 11,
   "metadata": {},
   "outputs": [
    {
     "data": {
      "text/plain": [
       "protocol__name                     0\n",
       "experiment__name                   0\n",
       "Trial ID                           0\n",
       "plot__name                         0\n",
       "Plot No.                           0\n",
       "sample__name                       0\n",
       "sample__planned_growth_stage       0\n",
       "sample__items_per_sample           0\n",
       "measurement_name                   0\n",
       "measurement_date                   0\n",
       "analytical_method               3339\n",
       "variable                           0\n",
       "value                              0\n",
       "value_dw_adjusted                  0\n",
       "dtype: int64"
      ]
     },
     "execution_count": 11,
     "metadata": {},
     "output_type": "execute_result"
    }
   ],
   "source": [
    "dw.isnull().sum()"
   ]
  },
  {
   "cell_type": "code",
   "execution_count": 12,
   "metadata": {},
   "outputs": [
    {
     "data": {
      "text/html": [
       "<div>\n",
       "<style scoped>\n",
       "    .dataframe tbody tr th:only-of-type {\n",
       "        vertical-align: middle;\n",
       "    }\n",
       "\n",
       "    .dataframe tbody tr th {\n",
       "        vertical-align: top;\n",
       "    }\n",
       "\n",
       "    .dataframe thead th {\n",
       "        text-align: right;\n",
       "    }\n",
       "</style>\n",
       "<table border=\"1\" class=\"dataframe\">\n",
       "  <thead>\n",
       "    <tr style=\"text-align: right;\">\n",
       "      <th></th>\n",
       "      <th>protocol__name</th>\n",
       "      <th>experiment__name</th>\n",
       "      <th>Trial ID</th>\n",
       "      <th>plot__name</th>\n",
       "      <th>Plot No.</th>\n",
       "      <th>sample__name</th>\n",
       "      <th>sample__planned_growth_stage</th>\n",
       "      <th>sample__items_per_sample</th>\n",
       "      <th>measurement_name</th>\n",
       "      <th>measurement_date</th>\n",
       "      <th>analytical_method</th>\n",
       "      <th>variable</th>\n",
       "      <th>value</th>\n",
       "      <th>value_dw_adjusted</th>\n",
       "      <th>combination</th>\n",
       "      <th>n_samples</th>\n",
       "    </tr>\n",
       "  </thead>\n",
       "  <tbody>\n",
       "    <tr>\n",
       "      <th>3154</th>\n",
       "      <td>20-ZEAMX-US403</td>\n",
       "      <td>FTR352</td>\n",
       "      <td>lion-uncle-march-lactose-mexico-vegan</td>\n",
       "      <td>FTR352.BLOCK01.REP03.PLOT306</td>\n",
       "      <td>306</td>\n",
       "      <td>FTR352.BLOCK01.REP03.PLOT306.T.001</td>\n",
       "      <td>V6-V7</td>\n",
       "      <td>5</td>\n",
       "      <td>FTR352.BLOCK01.REP03.PLOT306.T.001.01</td>\n",
       "      <td>2020-07-24 11:10:00</td>\n",
       "      <td>combustion</td>\n",
       "      <td>total_n_g</td>\n",
       "      <td>2.0064</td>\n",
       "      <td>0.40128</td>\n",
       "      <td>306_total_n_g_V6-V7</td>\n",
       "      <td>24</td>\n",
       "    </tr>\n",
       "  </tbody>\n",
       "</table>\n",
       "</div>"
      ],
      "text/plain": [
       "      protocol__name experiment__name                               Trial ID  \\\n",
       "3154  20-ZEAMX-US403           FTR352  lion-uncle-march-lactose-mexico-vegan   \n",
       "\n",
       "                        plot__name  Plot No.  \\\n",
       "3154  FTR352.BLOCK01.REP03.PLOT306       306   \n",
       "\n",
       "                            sample__name sample__planned_growth_stage  \\\n",
       "3154  FTR352.BLOCK01.REP03.PLOT306.T.001                        V6-V7   \n",
       "\n",
       "      sample__items_per_sample                       measurement_name  \\\n",
       "3154                         5  FTR352.BLOCK01.REP03.PLOT306.T.001.01   \n",
       "\n",
       "         measurement_date analytical_method   variable   value  \\\n",
       "3154  2020-07-24 11:10:00        combustion  total_n_g  2.0064   \n",
       "\n",
       "      value_dw_adjusted          combination  n_samples  \n",
       "3154            0.40128  306_total_n_g_V6-V7         24  "
      ]
     },
     "execution_count": 12,
     "metadata": {},
     "output_type": "execute_result"
    }
   ],
   "source": [
    "#n_samples  : number of samples taken for this plot, variable & growth stage combination according to the data warehouse\n",
    "plot = dw['Plot No.'].astype('str')\n",
    "dw['combination'] = plot + \"_\" + dw['variable'] + \"_\" +dw['sample__planned_growth_stage'] \n",
    "\n",
    "combinations = dw.combination.value_counts()\n",
    "x = []\n",
    "for i in dw.combination:\n",
    "    for index, value in combinations.items():\n",
    "        if i == index:\n",
    "            x.append(value)\n",
    "\n",
    "dw['n_samples'] = x\n",
    "#dw.drop(['combination'],axis=1,inplace=True)\n",
    "\n",
    "dw.sample()"
   ]
  },
  {
   "cell_type": "code",
   "execution_count": 13,
   "metadata": {},
   "outputs": [
    {
     "name": "stdout",
     "output_type": "stream",
     "text": [
      "Agronomist df shape is (3852, 8)\n",
      "Date warehouse df shape is (7757, 16)\n"
     ]
    }
   ],
   "source": [
    "print(\"Agronomist df shape is\",df.shape)\n",
    "print(\"Date warehouse df shape is\", dw.shape)"
   ]
  },
  {
   "cell_type": "code",
   "execution_count": 14,
   "metadata": {},
   "outputs": [
    {
     "data": {
      "text/plain": [
       "Trial ID                          23\n",
       "reps                               6\n",
       "Plot No.                          81\n",
       "Rate Unit                          2\n",
       "Appl Timing                        2\n",
       "variable                           2\n",
       "value_agronomist                2366\n",
       "sample__planned_growth_stage       2\n",
       "dtype: int64"
      ]
     },
     "execution_count": 14,
     "metadata": {},
     "output_type": "execute_result"
    }
   ],
   "source": [
    "#number of unique items per column\n",
    "df.T.apply(lambda x: x.nunique(),axis=1)"
   ]
  },
  {
   "cell_type": "code",
   "execution_count": 15,
   "metadata": {},
   "outputs": [
    {
     "data": {
      "text/plain": [
       "protocol__name                     1\n",
       "experiment__name                  30\n",
       "Trial ID                          30\n",
       "plot__name                      1258\n",
       "Plot No.                          81\n",
       "sample__name                    2678\n",
       "sample__planned_growth_stage       2\n",
       "sample__items_per_sample           3\n",
       "measurement_name                3093\n",
       "measurement_date                  65\n",
       "analytical_method                  1\n",
       "variable                           3\n",
       "value                           4678\n",
       "value_dw_adjusted               4973\n",
       "combination                      486\n",
       "n_samples                         48\n",
       "dtype: int64"
      ]
     },
     "execution_count": 15,
     "metadata": {},
     "output_type": "execute_result"
    }
   ],
   "source": [
    "dw.T.apply(lambda x: x.nunique(),axis=1)"
   ]
  },
  {
   "cell_type": "code",
   "execution_count": 16,
   "metadata": {},
   "outputs": [
    {
     "data": {
      "text/plain": [
       "['summer-freddie-colorado-fish-robert-hamper',\n",
       " 'lactose-vermont-crazy-echo-william-bravo',\n",
       " 'eighteen-thirteen-foxtrot-cold-carbon-wolfram',\n",
       " 'may-march-bacon-winter-batman-white',\n",
       " 'connecticut-leopard-queen-vegan-low-artist',\n",
       " 'nitrogen-alanine-queen-london-white-nineteen',\n",
       " 'pizza-venus-fourteen-apart-sierra-crazy']"
      ]
     },
     "execution_count": 16,
     "metadata": {},
     "output_type": "execute_result"
    }
   ],
   "source": [
    "#finding experimental trial IDs present in the data warehouse data that are not present in the agronomist dataset\n",
    "list_df = df['Trial ID'].unique().tolist()\n",
    "list_dw = dw['Trial ID'].unique().tolist()\n",
    "list(set(list_dw)-set(list_df))"
   ]
  },
  {
   "cell_type": "code",
   "execution_count": 17,
   "metadata": {},
   "outputs": [
    {
     "name": "stdout",
     "output_type": "stream",
     "text": [
      "Unique variables in the data warehouse dataset are ['dry_weight_g' 'total_n_g' 'n_pct']\n",
      "Unique variables in the agronomist dataset are ['dry_weight_g' 'total_n_g']\n"
     ]
    }
   ],
   "source": [
    "print(\"Unique variables in the data warehouse dataset are\",dw.variable.unique())\n",
    "print(\"Unique variables in the agronomist dataset are\",df.variable.unique())"
   ]
  },
  {
   "cell_type": "markdown",
   "metadata": {},
   "source": [
    "* We can note that the data warehouse file has more unique trial ids than the trial ID column in the agronomist df, given we expect the datasets to be the same, some may be missing\n",
    "* The agronomist dataset also doesn't have the 'n_pct' variable "
   ]
  },
  {
   "cell_type": "code",
   "execution_count": 18,
   "metadata": {},
   "outputs": [],
   "source": [
    "'''merging the 2 datasets, given that we want to compare the values from both'''\n",
    "data = pd.merge(dw,df,how='left',left_on=['Trial ID','Plot No.','variable','sample__planned_growth_stage'],\n",
    "right_on=['Trial ID','Plot No.','variable','sample__planned_growth_stage'])"
   ]
  },
  {
   "cell_type": "code",
   "execution_count": 19,
   "metadata": {},
   "outputs": [
    {
     "data": {
      "text/html": [
       "<div>\n",
       "<style scoped>\n",
       "    .dataframe tbody tr th:only-of-type {\n",
       "        vertical-align: middle;\n",
       "    }\n",
       "\n",
       "    .dataframe tbody tr th {\n",
       "        vertical-align: top;\n",
       "    }\n",
       "\n",
       "    .dataframe thead th {\n",
       "        text-align: right;\n",
       "    }\n",
       "</style>\n",
       "<table border=\"1\" class=\"dataframe\">\n",
       "  <thead>\n",
       "    <tr style=\"text-align: right;\">\n",
       "      <th></th>\n",
       "      <th>protocol__name</th>\n",
       "      <th>experiment__name</th>\n",
       "      <th>Trial ID</th>\n",
       "      <th>plot__name</th>\n",
       "      <th>Plot No.</th>\n",
       "      <th>sample__name</th>\n",
       "      <th>sample__planned_growth_stage</th>\n",
       "      <th>sample__items_per_sample</th>\n",
       "      <th>measurement_name</th>\n",
       "      <th>measurement_date</th>\n",
       "      <th>analytical_method</th>\n",
       "      <th>variable</th>\n",
       "      <th>value</th>\n",
       "      <th>value_dw_adjusted</th>\n",
       "      <th>combination</th>\n",
       "      <th>n_samples</th>\n",
       "      <th>reps</th>\n",
       "      <th>Rate Unit</th>\n",
       "      <th>Appl Timing</th>\n",
       "      <th>value_agronomist</th>\n",
       "    </tr>\n",
       "  </thead>\n",
       "  <tbody>\n",
       "    <tr>\n",
       "      <th>7484</th>\n",
       "      <td>20-ZEAMX-US403</td>\n",
       "      <td>FTR345</td>\n",
       "      <td>arizona-pluto-yellow-apart-eleven-alanine</td>\n",
       "      <td>FTR345.BLOCK01.REP02.PLOT207</td>\n",
       "      <td>207</td>\n",
       "      <td>FTR345.BLOCK01.REP02.PLOT207.T.002</td>\n",
       "      <td>VT</td>\n",
       "      <td>3</td>\n",
       "      <td>FTR345.BLOCK01.REP02.PLOT207.T.002.01</td>\n",
       "      <td>2020-08-11 14:10:59</td>\n",
       "      <td>combustion</td>\n",
       "      <td>n_pct</td>\n",
       "      <td>1.82</td>\n",
       "      <td>0.606667</td>\n",
       "      <td>207_n_pct_VT</td>\n",
       "      <td>46</td>\n",
       "      <td>NaN</td>\n",
       "      <td>NaN</td>\n",
       "      <td>NaN</td>\n",
       "      <td>NaN</td>\n",
       "    </tr>\n",
       "  </tbody>\n",
       "</table>\n",
       "</div>"
      ],
      "text/plain": [
       "      protocol__name experiment__name  \\\n",
       "7484  20-ZEAMX-US403           FTR345   \n",
       "\n",
       "                                       Trial ID                    plot__name  \\\n",
       "7484  arizona-pluto-yellow-apart-eleven-alanine  FTR345.BLOCK01.REP02.PLOT207   \n",
       "\n",
       "      Plot No.                        sample__name  \\\n",
       "7484       207  FTR345.BLOCK01.REP02.PLOT207.T.002   \n",
       "\n",
       "     sample__planned_growth_stage  sample__items_per_sample  \\\n",
       "7484                           VT                         3   \n",
       "\n",
       "                           measurement_name     measurement_date  \\\n",
       "7484  FTR345.BLOCK01.REP02.PLOT207.T.002.01  2020-08-11 14:10:59   \n",
       "\n",
       "     analytical_method variable  value  value_dw_adjusted   combination  \\\n",
       "7484        combustion    n_pct   1.82           0.606667  207_n_pct_VT   \n",
       "\n",
       "      n_samples  reps Rate Unit Appl Timing  value_agronomist  \n",
       "7484         46   NaN       NaN         NaN               NaN  "
      ]
     },
     "execution_count": 19,
     "metadata": {},
     "output_type": "execute_result"
    }
   ],
   "source": [
    "data.sample()"
   ]
  },
  {
   "cell_type": "code",
   "execution_count": 20,
   "metadata": {},
   "outputs": [
    {
     "data": {
      "text/html": [
       "<div>\n",
       "<style scoped>\n",
       "    .dataframe tbody tr th:only-of-type {\n",
       "        vertical-align: middle;\n",
       "    }\n",
       "\n",
       "    .dataframe tbody tr th {\n",
       "        vertical-align: top;\n",
       "    }\n",
       "\n",
       "    .dataframe thead th {\n",
       "        text-align: right;\n",
       "    }\n",
       "</style>\n",
       "<table border=\"1\" class=\"dataframe\">\n",
       "  <thead>\n",
       "    <tr style=\"text-align: right;\">\n",
       "      <th></th>\n",
       "      <th>Trial ID</th>\n",
       "      <th>plot</th>\n",
       "      <th>sample__planned_growth_stage</th>\n",
       "      <th>items_per_sample</th>\n",
       "      <th>variable</th>\n",
       "      <th>value_dw</th>\n",
       "      <th>value_dw_adjusted</th>\n",
       "      <th>value_agronomist</th>\n",
       "      <th>n_samples</th>\n",
       "    </tr>\n",
       "  </thead>\n",
       "  <tbody>\n",
       "    <tr>\n",
       "      <th>4495</th>\n",
       "      <td>four-georgia-march-fruit-alanine-steak</td>\n",
       "      <td>608</td>\n",
       "      <td>VT</td>\n",
       "      <td>1</td>\n",
       "      <td>total_n_g</td>\n",
       "      <td>2.25072</td>\n",
       "      <td>2.25072</td>\n",
       "      <td>2.11899</td>\n",
       "      <td>7</td>\n",
       "    </tr>\n",
       "  </tbody>\n",
       "</table>\n",
       "</div>"
      ],
      "text/plain": [
       "                                    Trial ID  plot  \\\n",
       "4495  four-georgia-march-fruit-alanine-steak   608   \n",
       "\n",
       "     sample__planned_growth_stage  items_per_sample   variable  value_dw  \\\n",
       "4495                           VT                 1  total_n_g   2.25072   \n",
       "\n",
       "      value_dw_adjusted  value_agronomist  n_samples  \n",
       "4495            2.25072           2.11899          7  "
      ]
     },
     "execution_count": 20,
     "metadata": {},
     "output_type": "execute_result"
    }
   ],
   "source": [
    "new_df = data.loc[:,['Trial ID','Plot No.','sample__planned_growth_stage','sample__items_per_sample','variable',\n",
    " 'value','value_dw_adjusted' ,'value_agronomist','n_samples']]\n",
    "new_df.rename(columns={'Plot No.':'plot','sample__items_per_sample':'items_per_sample','value':'value_dw'},inplace=True)\n",
    "new_df.sample()"
   ]
  },
  {
   "cell_type": "code",
   "execution_count": 21,
   "metadata": {},
   "outputs": [],
   "source": [
    "#save as csv file\n",
    "#new_df.to_csv('data/data.csv',index=False)"
   ]
  },
  {
   "cell_type": "code",
   "execution_count": null,
   "metadata": {},
   "outputs": [],
   "source": []
  },
  {
   "cell_type": "code",
   "execution_count": 22,
   "metadata": {},
   "outputs": [
    {
     "data": {
      "image/png": "[encoded data removed]",
      "text/plain": [
       "<Figure size 432x288 with 1 Axes>"
      ]
     },
     "metadata": {
      "needs_background": "light"
     },
     "output_type": "display_data"
    }
   ],
   "source": [
    "sns.scatterplot(data=new_df, x = \"value_dw_adjusted\",y = \"value_agronomist\", hue = \"variable\")\n",
    "plt.show()"
   ]
  },
  {
   "cell_type": "code",
   "execution_count": 23,
   "metadata": {},
   "outputs": [
    {
     "data": {
      "text/plain": [
       "<AxesSubplot:xlabel='variable', ylabel='count'>"
      ]
     },
     "execution_count": 23,
     "metadata": {},
     "output_type": "execute_result"
    },
    {
     "data": {
      "image/png": "[encoded data removed]",
      "text/plain": [
       "<Figure size 432x288 with 1 Axes>"
      ]
     },
     "metadata": {
      "needs_background": "light"
     },
     "output_type": "display_data"
    }
   ],
   "source": [
    "sns.countplot(x='variable',data=new_df)"
   ]
  },
  {
   "cell_type": "code",
   "execution_count": 24,
   "metadata": {},
   "outputs": [
    {
     "data": {
      "image/png": "[encoded data removed]",
      "text/plain": [
       "<Figure size 432x288 with 1 Axes>"
      ]
     },
     "metadata": {
      "needs_background": "light"
     },
     "output_type": "display_data"
    }
   ],
   "source": [
    "sns.scatterplot(x='value_agronomist',y='value_dw_adjusted',hue='sample__planned_growth_stage',data=new_df)\n",
    "plt.show()"
   ]
  },
  {
   "cell_type": "code",
   "execution_count": 25,
   "metadata": {},
   "outputs": [
    {
     "data": {
      "text/plain": [
       "VT       4720\n",
       "V6-V7    3037\n",
       "Name: sample__planned_growth_stage, dtype: int64"
      ]
     },
     "execution_count": 25,
     "metadata": {},
     "output_type": "execute_result"
    }
   ],
   "source": [
    "new_df.sample__planned_growth_stage.value_counts()"
   ]
  },
  {
   "cell_type": "code",
   "execution_count": 26,
   "metadata": {},
   "outputs": [
    {
     "data": {
      "text/html": [
       "<div>\n",
       "<style scoped>\n",
       "    .dataframe tbody tr th:only-of-type {\n",
       "        vertical-align: middle;\n",
       "    }\n",
       "\n",
       "    .dataframe tbody tr th {\n",
       "        vertical-align: top;\n",
       "    }\n",
       "\n",
       "    .dataframe thead th {\n",
       "        text-align: right;\n",
       "    }\n",
       "</style>\n",
       "<table border=\"1\" class=\"dataframe\">\n",
       "  <thead>\n",
       "    <tr style=\"text-align: right;\">\n",
       "      <th></th>\n",
       "      <th>value_agronomist</th>\n",
       "      <th>value_dw_adjusted</th>\n",
       "    </tr>\n",
       "    <tr>\n",
       "      <th>variable</th>\n",
       "      <th></th>\n",
       "      <th></th>\n",
       "    </tr>\n",
       "  </thead>\n",
       "  <tbody>\n",
       "    <tr>\n",
       "      <th>dry_weight_g</th>\n",
       "      <td>63.370616</td>\n",
       "      <td>65.928120</td>\n",
       "    </tr>\n",
       "    <tr>\n",
       "      <th>n_pct</th>\n",
       "      <td>NaN</td>\n",
       "      <td>0.835545</td>\n",
       "    </tr>\n",
       "    <tr>\n",
       "      <th>total_n_g</th>\n",
       "      <td>1.076731</td>\n",
       "      <td>1.141038</td>\n",
       "    </tr>\n",
       "  </tbody>\n",
       "</table>\n",
       "</div>"
      ],
      "text/plain": [
       "              value_agronomist  value_dw_adjusted\n",
       "variable                                         \n",
       "dry_weight_g         63.370616          65.928120\n",
       "n_pct                      NaN           0.835545\n",
       "total_n_g             1.076731           1.141038"
      ]
     },
     "execution_count": 26,
     "metadata": {},
     "output_type": "execute_result"
    }
   ],
   "source": [
    "var = new_df.groupby('variable').agg({'value_agronomist':'mean','value_dw_adjusted':'mean'})\n",
    "var"
   ]
  },
  {
   "cell_type": "code",
   "execution_count": 27,
   "metadata": {},
   "outputs": [
    {
     "data": {
      "text/plain": [
       "array([<AxesSubplot:title={'center':'value_agronomist'}, xlabel='variable'>,\n",
       "       <AxesSubplot:title={'center':'value_dw_adjusted'}, xlabel='variable'>],\n",
       "      dtype=object)"
      ]
     },
     "execution_count": 27,
     "metadata": {},
     "output_type": "execute_result"
    },
    {
     "data": {
      "image/png": "[encoded data removed]",
      "text/plain": [
       "<Figure size 432x288 with 2 Axes>"
      ]
     },
     "metadata": {
      "needs_background": "light"
     },
     "output_type": "display_data"
    }
   ],
   "source": [
    "var.plot.bar(subplots=True)"
   ]
  },
  {
   "cell_type": "markdown",
   "metadata": {},
   "source": [
    "* the warehouse dataset probably has higher averages because it has more trial IDs than the agronomist data\n",
    "* create a new merged df (inner) with the same trial IDs and see if the values are the same"
   ]
  },
  {
   "cell_type": "code",
   "execution_count": 28,
   "metadata": {},
   "outputs": [
    {
     "data": {
      "text/plain": [
       "(3852, 8)"
      ]
     },
     "execution_count": 28,
     "metadata": {},
     "output_type": "execute_result"
    }
   ],
   "source": [
    "df.shape"
   ]
  },
  {
   "cell_type": "code",
   "execution_count": 29,
   "metadata": {},
   "outputs": [
    {
     "data": {
      "text/plain": [
       "Index(['Trial ID', 'reps', 'Plot No.', 'Rate Unit', 'Appl Timing', 'variable',\n",
       "       'value_agronomist', 'sample__planned_growth_stage'],\n",
       "      dtype='object')"
      ]
     },
     "execution_count": 29,
     "metadata": {},
     "output_type": "execute_result"
    }
   ],
   "source": [
    "df.columns"
   ]
  },
  {
   "cell_type": "code",
   "execution_count": 30,
   "metadata": {},
   "outputs": [
    {
     "data": {
      "text/html": [
       "<div>\n",
       "<style scoped>\n",
       "    .dataframe tbody tr th:only-of-type {\n",
       "        vertical-align: middle;\n",
       "    }\n",
       "\n",
       "    .dataframe tbody tr th {\n",
       "        vertical-align: top;\n",
       "    }\n",
       "\n",
       "    .dataframe thead th {\n",
       "        text-align: right;\n",
       "    }\n",
       "</style>\n",
       "<table border=\"1\" class=\"dataframe\">\n",
       "  <thead>\n",
       "    <tr style=\"text-align: right;\">\n",
       "      <th></th>\n",
       "      <th>Trial ID</th>\n",
       "      <th>plot</th>\n",
       "      <th>sample__planned_growth_stage</th>\n",
       "      <th>items_per_sample</th>\n",
       "      <th>variable</th>\n",
       "      <th>value_dw</th>\n",
       "      <th>value_dw_adjusted</th>\n",
       "      <th>value_agronomist</th>\n",
       "    </tr>\n",
       "  </thead>\n",
       "  <tbody>\n",
       "    <tr>\n",
       "      <th>258</th>\n",
       "      <td>asparagus-zebra-low-winner-floor-december</td>\n",
       "      <td>301</td>\n",
       "      <td>VT</td>\n",
       "      <td>1</td>\n",
       "      <td>dry_weight_g</td>\n",
       "      <td>114.5</td>\n",
       "      <td>114.5</td>\n",
       "      <td>121.0</td>\n",
       "    </tr>\n",
       "  </tbody>\n",
       "</table>\n",
       "</div>"
      ],
      "text/plain": [
       "                                      Trial ID  plot  \\\n",
       "258  asparagus-zebra-low-winner-floor-december   301   \n",
       "\n",
       "    sample__planned_growth_stage  items_per_sample      variable  value_dw  \\\n",
       "258                           VT                 1  dry_weight_g     114.5   \n",
       "\n",
       "     value_dw_adjusted  value_agronomist  \n",
       "258              114.5             121.0  "
      ]
     },
     "execution_count": 30,
     "metadata": {},
     "output_type": "execute_result"
    }
   ],
   "source": [
    "var_df = pd.merge(df,dw,how='inner', on=['Trial ID','Plot No.','sample__planned_growth_stage','variable'])\n",
    "#retain relevant columns\n",
    "var_df = var_df.loc[:,['Trial ID','Plot No.','sample__planned_growth_stage','sample__items_per_sample','variable',\n",
    " 'value','value_dw_adjusted' ,'value_agronomist']]\n",
    "var_df.rename(columns={'Plot No.':'plot','sample__items_per_sample':'items_per_sample','value':'value_dw'},inplace=True)\n",
    "var_df.sample()"
   ]
  },
  {
   "cell_type": "code",
   "execution_count": 31,
   "metadata": {},
   "outputs": [
    {
     "data": {
      "text/plain": [
       "(3675, 8)"
      ]
     },
     "execution_count": 31,
     "metadata": {},
     "output_type": "execute_result"
    }
   ],
   "source": [
    "var_df.shape"
   ]
  },
  {
   "cell_type": "code",
   "execution_count": 32,
   "metadata": {},
   "outputs": [
    {
     "data": {
      "text/html": [
       "<div>\n",
       "<style scoped>\n",
       "    .dataframe tbody tr th:only-of-type {\n",
       "        vertical-align: middle;\n",
       "    }\n",
       "\n",
       "    .dataframe tbody tr th {\n",
       "        vertical-align: top;\n",
       "    }\n",
       "\n",
       "    .dataframe thead th {\n",
       "        text-align: right;\n",
       "    }\n",
       "</style>\n",
       "<table border=\"1\" class=\"dataframe\">\n",
       "  <thead>\n",
       "    <tr style=\"text-align: right;\">\n",
       "      <th></th>\n",
       "      <th>value_agronomist</th>\n",
       "      <th>value_dw_adjusted</th>\n",
       "    </tr>\n",
       "    <tr>\n",
       "      <th>variable</th>\n",
       "      <th></th>\n",
       "      <th></th>\n",
       "    </tr>\n",
       "  </thead>\n",
       "  <tbody>\n",
       "    <tr>\n",
       "      <th>dry_weight_g</th>\n",
       "      <td>63.370616</td>\n",
       "      <td>62.291187</td>\n",
       "    </tr>\n",
       "    <tr>\n",
       "      <th>total_n_g</th>\n",
       "      <td>1.076731</td>\n",
       "      <td>1.080787</td>\n",
       "    </tr>\n",
       "  </tbody>\n",
       "</table>\n",
       "</div>"
      ],
      "text/plain": [
       "              value_agronomist  value_dw_adjusted\n",
       "variable                                         \n",
       "dry_weight_g         63.370616          62.291187\n",
       "total_n_g             1.076731           1.080787"
      ]
     },
     "execution_count": 32,
     "metadata": {},
     "output_type": "execute_result"
    }
   ],
   "source": [
    "new_var = var_df.groupby('variable').agg({'value_agronomist':'mean','value_dw_adjusted':'mean'})\n",
    "new_var"
   ]
  },
  {
   "cell_type": "code",
   "execution_count": 33,
   "metadata": {},
   "outputs": [
    {
     "data": {
      "text/plain": [
       "721"
      ]
     },
     "execution_count": 33,
     "metadata": {},
     "output_type": "execute_result"
    }
   ],
   "source": [
    "var_df.value_dw_adjusted.isin(var_df.value_agronomist).sum()"
   ]
  },
  {
   "cell_type": "markdown",
   "metadata": {},
   "source": [
    "* Based on how the merging was done, given that the 2 datasets should be identical we expect the values from the agronomist and warehouse datasets to be equal\n",
    "* But we see that only 721 entries out of 3675 entries, which could be explained by uploading errors and different normalization processes during upload\n",
    "* we create a new column 'diff' to investigate these differences between the 2 values "
   ]
  },
  {
   "cell_type": "code",
   "execution_count": 34,
   "metadata": {},
   "outputs": [
    {
     "data": {
      "text/plain": [
       "count    3675.000000\n",
       "mean        0.541667\n",
       "std        14.211313\n",
       "min       -97.066667\n",
       "25%        -0.000416\n",
       "50%         0.000000\n",
       "75%         0.000360\n",
       "max       104.600000\n",
       "Name: diff, dtype: float64"
      ]
     },
     "execution_count": 34,
     "metadata": {},
     "output_type": "execute_result"
    }
   ],
   "source": [
    "var_df['diff'] = var_df['value_agronomist'] - var_df['value_dw_adjusted']\n",
    "var_df['diff'].describe()"
   ]
  },
  {
   "cell_type": "code",
   "execution_count": 35,
   "metadata": {},
   "outputs": [
    {
     "data": {
      "text/plain": [
       "0.9    0.470696\n",
       "Name: diff, dtype: float64"
      ]
     },
     "execution_count": 35,
     "metadata": {},
     "output_type": "execute_result"
    }
   ],
   "source": [
    "var_df['diff'].quantile([.90])"
   ]
  },
  {
   "cell_type": "code",
   "execution_count": 36,
   "metadata": {},
   "outputs": [
    {
     "data": {
      "text/plain": [
       "bakerloo-thirteen-xray-muppet-maine-coffee    108\n",
       "four-georgia-march-fruit-alanine-steak         80\n",
       "diet-victor-floor-pluto-fix-pizza              60\n",
       "asparagus-zebra-low-winner-floor-december      54\n",
       "red-maine-artist-south-wisconsin-october       48\n",
       "delaware-queen-angel-artist-green-south        18\n",
       "Name: Trial ID, dtype: int64"
      ]
     },
     "execution_count": 36,
     "metadata": {},
     "output_type": "execute_result"
    }
   ],
   "source": [
    "x = var_df[var_df['diff'] >0.470696]\n",
    "x['Trial ID'].value_counts()"
   ]
  },
  {
   "cell_type": "code",
   "execution_count": 37,
   "metadata": {},
   "outputs": [
    {
     "data": {
      "text/plain": [
       "dry_weight_g    307\n",
       "total_n_g        61\n",
       "Name: variable, dtype: int64"
      ]
     },
     "execution_count": 37,
     "metadata": {},
     "output_type": "execute_result"
    }
   ],
   "source": [
    "x['variable'].value_counts()"
   ]
  },
  {
   "cell_type": "markdown",
   "metadata": {},
   "source": [
    "<h3>Which data are poorly aligned? Generate a concise output (could be graph, table or other) which you might share with another data engineer to help them identify which records need to be investigated further. \n",
    "\n",
    "* We use DataCompy for this</h3>"
   ]
  },
  {
   "cell_type": "code",
   "execution_count": 38,
   "metadata": {},
   "outputs": [
    {
     "data": {
      "text/plain": [
       "Index(['Trial ID', 'Plot No.', 'sample__planned_growth_stage', 'variable'], dtype='object')"
      ]
     },
     "execution_count": 38,
     "metadata": {},
     "output_type": "execute_result"
    }
   ],
   "source": [
    "dw.columns.intersection(df.columns)"
   ]
  },
  {
   "cell_type": "code",
   "execution_count": 40,
   "metadata": {},
   "outputs": [
    {
     "name": "stdout",
     "output_type": "stream",
     "text": [
      "DataComPy Comparison\n",
      "--------------------\n",
      "\n",
      "DataFrame Summary\n",
      "-----------------\n",
      "\n",
      "            DataFrame  Columns  Rows\n",
      "0   warehouse dataset       16  7757\n",
      "1  agronomics dataset        8  3852\n",
      "\n",
      "Column Summary\n",
      "--------------\n",
      "\n",
      "Number of columns in common: 4\n",
      "Number of columns in warehouse dataset but not in agronomics dataset: 12\n",
      "Number of columns in agronomics dataset but not in warehouse dataset: 4\n",
      "\n",
      "Row Summary\n",
      "-----------\n",
      "\n",
      "Matched on: trial id, plot no., sample__planned_growth_stage, variable\n",
      "Any duplicates on match values: Yes\n",
      "Absolute Tolerance: 0\n",
      "Relative Tolerance: 0\n",
      "Number of rows in common: 2,952\n",
      "Number of rows in warehouse dataset but not in agronomics dataset: 4,805\n",
      "Number of rows in agronomics dataset but not in warehouse dataset: 900\n",
      "\n",
      "Number of rows with some compared columns unequal: 0\n",
      "Number of rows with all compared columns equal: 2,952\n",
      "\n",
      "Column Comparison\n",
      "-----------------\n",
      "\n",
      "Number of columns compared with some values unequal: 0\n",
      "Number of columns compared with all values equal: 4\n",
      "Total number of values which compare unequal: 0\n",
      "\n",
      "Sample Rows Only in warehouse dataset (First 10 Columns)\n",
      "--------------------------------------------------------\n",
      "\n",
      "      protocol__name experiment__name                                         trial id                    plot__name  plot no.                        sample__name sample__planned_growth_stage  sample__items_per_sample                          measurement_name     measurement_date\n",
      "5378  20-ZEAMX-US403           FTR340          tennis-sixteen-grey-ink-white-louisiana  FTR340.BLOCK01.REP04.PLOT409       409  FTR340.BLOCK01.REP04.PLOT409.T.001                        V6-V7                       5.0     FTR340.BLOCK01.REP04.PLOT409.T.001.01  2020-07-07 16:58:00\n",
      "2169  20-ZEAMX-US403           FTR351                diet-victor-floor-pluto-fix-pizza  FTR351.BLOCK01.REP02.PLOT201       201  FTR351.BLOCK01.REP02.PLOT201.T.004                           VT                       1.0     FTR351.BLOCK01.REP02.PLOT201.T.004.01  2020-09-01 13:57:00\n",
      "4998  20-ZEAMX-US403           FTR339     september-oranges-crazy-florida-delta-monkey  FTR339.BLOCK01.REP04.PLOT117       117  FTR339.BLOCK01.REP04.PLOT117.T.002                           VT                       3.0  FTR339.BLOCK01.REP04.PLOT117.T.002_64987  2020-11-17 13:00:00\n",
      "6986  20-ZEAMX-US403           FTR362  mountain-november-chicken-avocado-magazine-oven  FTR362.BLOCK01.REP03.PLOT309       309  FTR362.BLOCK01.REP03.PLOT309.T.002                           VT                       3.0     FTR362.BLOCK01.REP03.PLOT309.T.002.01  2020-07-28 15:20:00\n",
      "3850  20-ZEAMX-US403           FTR354       connecticut-leopard-queen-vegan-low-artist  FTR354.BLOCK01.REP01.PLOT106       106  FTR354.BLOCK01.REP01.PLOT106.T.002                           VT                       1.0     FTR354.BLOCK01.REP01.PLOT106.T.002.01  2020-08-06 10:27:59\n",
      "6825  20-ZEAMX-US403           FTR360     bravo-arizona-sixteen-eighteen-hot-spaghetti  FTR360.BLOCK01.REP03.PLOT303       303  FTR360.BLOCK01.REP03.PLOT303.T.002                           VT                       3.0     FTR360.BLOCK01.REP03.PLOT303.T.002.01  2020-06-26 16:41:59\n",
      "4930  20-ZEAMX-US403           FTR338           four-georgia-march-fruit-alanine-steak  FTR338.BLOCK01.REP05.PLOT504       504  FTR338.BLOCK01.REP05.PLOT504.T.004                           VT                       1.0  FTR338.BLOCK01.REP05.PLOT504.T.004_63796  2020-10-26 10:00:00\n",
      "6246  20-ZEAMX-US403           FTR343           harry-oklahoma-cat-edward-early-butter  FTR343.BLOCK01.REP02.PLOT203       203  FTR343.BLOCK01.REP02.PLOT203.T.002                           VT                       3.0     FTR343.BLOCK01.REP02.PLOT203.T.002.01  2020-09-15 09:22:00\n",
      "2130  20-ZEAMX-US403           FTR348        asparagus-zebra-low-winner-floor-december  FTR348.BLOCK01.REP04.PLOT402       402  FTR348.BLOCK01.REP04.PLOT402.T.004                           VT                       1.0     FTR348.BLOCK01.REP04.PLOT402.T.004.01  2020-08-11 14:12:00\n",
      "6534  20-ZEAMX-US403           FTR351                diet-victor-floor-pluto-fix-pizza  FTR351.BLOCK01.REP04.PLOT403       403  FTR351.BLOCK01.REP04.PLOT403.T.003                           VT                       1.0     FTR351.BLOCK01.REP04.PLOT403.T.003.01  2020-09-01 13:57:00\n",
      "\n",
      "Sample Rows Only in agronomics dataset (First 10 Columns)\n",
      "---------------------------------------------------------\n",
      "\n",
      "                                             trial id  reps  plot no. rate unit appl timing      variable  value_agronomist sample__planned_growth_stage\n",
      "8068  island-beryllium-idaho-wyoming-florida-nitrogen   6.0       608   FL OZ/A      ATPLAN  dry_weight_g             0.000                           VT\n",
      "8389         red-maine-artist-south-wisconsin-october   2.0       202   FL OZ/A      ATPLAN  dry_weight_g            19.940                        V6-V7\n",
      "8407         red-maine-artist-south-wisconsin-october   6.0       609   FL OZ/A      ATPLAN  dry_weight_g             0.000                        V6-V7\n",
      "8429         red-maine-artist-south-wisconsin-october   3.0       308   FL OZ/A      ATPLAN     total_n_g             0.749                        V6-V7\n",
      "8115        maryland-summer-nuts-march-minnesota-lamp   4.0       407   FL OZ/A      ATPLAN  dry_weight_g             4.460                        V6-V7\n",
      "7831        asparagus-zebra-low-winner-floor-december   3.0       308   FL OZ/A      ATPLAN     total_n_g             1.904                           VT\n",
      "8298             nine-texas-march-texas-chicken-hotel   5.0       508   FL OZ/A      ATPLAN     total_n_g             0.000                           VT\n",
      "8610   washington-uranus-eighteen-queen-cardinal-cola   1.0       101         0           0  dry_weight_g           103.500                           VT\n",
      "8408         red-maine-artist-south-wisconsin-october   2.0       204   FL OZ/A      ATPLAN  dry_weight_g            17.840                        V6-V7\n",
      "8053           harry-oklahoma-cat-edward-early-butter   5.0       505         0           0     total_n_g             0.000                           VT\n",
      "\n",
      "\n"
     ]
    }
   ],
   "source": [
    "compare = datacompy.Compare(dw,df,join_columns=['Trial ID', 'Plot No.', 'sample__planned_growth_stage', 'variable'],df1_name='warehouse dataset', df2_name='agronomics dataset')\n",
    "print(compare.report())"
   ]
  }
 ],
 "metadata": {
  "interpreter": {
   "hash": "247ab06e135bb35fa78c5eff31b2a9a0050dcb5fb773c2631d2a29ac689eeccb"
  },
  "kernelspec": {
   "display_name": "Python 3.9.7 64-bit",
   "name": "python3"
  },
  "language_info": {
   "codemirror_mode": {
    "name": "ipython",
    "version": 3
   },
   "file_extension": ".py",
   "mimetype": "text/x-python",
   "name": "python",
   "nbconvert_exporter": "python",
   "pygments_lexer": "ipython3",
   "version": "3.9.7"
  },
  "orig_nbformat": 4
 },
 "nbformat": 4,
 "nbformat_minor": 2
}
