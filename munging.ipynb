{
 "cells": [
  {
   "cell_type": "code",
   "execution_count": 1,
   "metadata": {},
   "outputs": [],
   "source": [
    "import pandas as pd\n",
    "import glob\n",
    "import os\n",
    "import seaborn as sns\n",
    "import matplotlib.pyplot as plt\n",
    "import datacompy"
   ]
  },
  {
   "cell_type": "code",
   "execution_count": 2,
   "metadata": {},
   "outputs": [],
   "source": [
    "'''the get_data function loops through all the csv files in our agronomist data path,melts each dataframe so as to create new \n",
    "columns variable and value_agronomist which contain the response variable and values per response variables respectively\n",
    "This creates a uniform structure in both datasets'''\n",
    "def get_agrodata(dataset_path):\n",
    "    list_df =[]\n",
    "    all_files = glob.glob(dataset_path+ \"/*.csv\")\n",
    "    for f in all_files:\n",
    "        df = pd.read_csv(f,sep=',')\n",
    "        df = df.melt(id_vars=['Trial ID', 'reps', 'Plot No.', 'Rate Unit', 'Appl Timing'], var_name='variable', \n",
    "        value_name=\"value_agronomist\")\n",
    "        df[['variable','sample__planned_growth_stage']] = df.variable.str.split(\" \",expand=True)\n",
    "        list_df.append(df)\n",
    "    df_agro = pd.concat(list_df,ignore_index=True)\n",
    "    return df_agro    "
   ]
  },
  {
   "cell_type": "code",
   "execution_count": 3,
   "metadata": {},
   "outputs": [
    {
     "data": {
      "text/html": [
       "<div>\n",
       "<style scoped>\n",
       "    .dataframe tbody tr th:only-of-type {\n",
       "        vertical-align: middle;\n",
       "    }\n",
       "\n",
       "    .dataframe tbody tr th {\n",
       "        vertical-align: top;\n",
       "    }\n",
       "\n",
       "    .dataframe thead th {\n",
       "        text-align: right;\n",
       "    }\n",
       "</style>\n",
       "<table border=\"1\" class=\"dataframe\">\n",
       "  <thead>\n",
       "    <tr style=\"text-align: right;\">\n",
       "      <th></th>\n",
       "      <th>Trial ID</th>\n",
       "      <th>reps</th>\n",
       "      <th>Plot No.</th>\n",
       "      <th>Rate Unit</th>\n",
       "      <th>Appl Timing</th>\n",
       "      <th>variable</th>\n",
       "      <th>value_agronomist</th>\n",
       "      <th>sample__planned_growth_stage</th>\n",
       "    </tr>\n",
       "  </thead>\n",
       "  <tbody>\n",
       "    <tr>\n",
       "      <th>0</th>\n",
       "      <td>alanine-cup-tango-hotel-oven-pasta</td>\n",
       "      <td>1</td>\n",
       "      <td>103</td>\n",
       "      <td></td>\n",
       "      <td></td>\n",
       "      <td>dry_weight_g</td>\n",
       "      <td>15.76</td>\n",
       "      <td>V6-V7</td>\n",
       "    </tr>\n",
       "    <tr>\n",
       "      <th>1</th>\n",
       "      <td>alanine-cup-tango-hotel-oven-pasta</td>\n",
       "      <td>2</td>\n",
       "      <td>201</td>\n",
       "      <td></td>\n",
       "      <td></td>\n",
       "      <td>dry_weight_g</td>\n",
       "      <td>16.12</td>\n",
       "      <td>V6-V7</td>\n",
       "    </tr>\n",
       "    <tr>\n",
       "      <th>2</th>\n",
       "      <td>alanine-cup-tango-hotel-oven-pasta</td>\n",
       "      <td>3</td>\n",
       "      <td>304</td>\n",
       "      <td></td>\n",
       "      <td></td>\n",
       "      <td>dry_weight_g</td>\n",
       "      <td>12.16</td>\n",
       "      <td>V6-V7</td>\n",
       "    </tr>\n",
       "    <tr>\n",
       "      <th>3</th>\n",
       "      <td>alanine-cup-tango-hotel-oven-pasta</td>\n",
       "      <td>4</td>\n",
       "      <td>403</td>\n",
       "      <td></td>\n",
       "      <td></td>\n",
       "      <td>dry_weight_g</td>\n",
       "      <td>5.48</td>\n",
       "      <td>V6-V7</td>\n",
       "    </tr>\n",
       "    <tr>\n",
       "      <th>4</th>\n",
       "      <td>alanine-cup-tango-hotel-oven-pasta</td>\n",
       "      <td>5</td>\n",
       "      <td>507</td>\n",
       "      <td></td>\n",
       "      <td></td>\n",
       "      <td>dry_weight_g</td>\n",
       "      <td>9.68</td>\n",
       "      <td>V6-V7</td>\n",
       "    </tr>\n",
       "  </tbody>\n",
       "</table>\n",
       "</div>"
      ],
      "text/plain": [
       "                             Trial ID  reps  Plot No. Rate Unit Appl Timing  \\\n",
       "0  alanine-cup-tango-hotel-oven-pasta     1       103                         \n",
       "1  alanine-cup-tango-hotel-oven-pasta     2       201                         \n",
       "2  alanine-cup-tango-hotel-oven-pasta     3       304                         \n",
       "3  alanine-cup-tango-hotel-oven-pasta     4       403                         \n",
       "4  alanine-cup-tango-hotel-oven-pasta     5       507                         \n",
       "\n",
       "       variable value_agronomist sample__planned_growth_stage  \n",
       "0  dry_weight_g            15.76                        V6-V7  \n",
       "1  dry_weight_g            16.12                        V6-V7  \n",
       "2  dry_weight_g            12.16                        V6-V7  \n",
       "3  dry_weight_g             5.48                        V6-V7  \n",
       "4  dry_weight_g             9.68                        V6-V7  "
      ]
     },
     "execution_count": 3,
     "metadata": {},
     "output_type": "execute_result"
    }
   ],
   "source": [
    "DATASET_PATH = \"data/agronomist\"\n",
    "df = get_agrodata(DATASET_PATH)\n",
    "df.head()"
   ]
  },
  {
   "cell_type": "code",
   "execution_count": 4,
   "metadata": {},
   "outputs": [
    {
     "data": {
      "text/plain": [
       "0"
      ]
     },
     "execution_count": 4,
     "metadata": {},
     "output_type": "execute_result"
    }
   ],
   "source": [
    "(df.isnull().sum()).sum()"
   ]
  },
  {
   "cell_type": "code",
   "execution_count": 5,
   "metadata": {},
   "outputs": [
    {
     "data": {
      "text/plain": [
       "array(['dry_weight_g', 'total_n_g'], dtype=object)"
      ]
     },
     "execution_count": 5,
     "metadata": {},
     "output_type": "execute_result"
    }
   ],
   "source": [
    "df.variable.unique()"
   ]
  },
  {
   "cell_type": "code",
   "execution_count": 6,
   "metadata": {},
   "outputs": [],
   "source": [
    "df = df.replace(r'^\\s*$', 0, regex=True)\n",
    "df.value_agronomist = df.value_agronomist.astype('float64')"
   ]
  },
  {
   "cell_type": "code",
   "execution_count": 7,
   "metadata": {},
   "outputs": [
    {
     "data": {
      "text/html": [
       "<div>\n",
       "<style scoped>\n",
       "    .dataframe tbody tr th:only-of-type {\n",
       "        vertical-align: middle;\n",
       "    }\n",
       "\n",
       "    .dataframe tbody tr th {\n",
       "        vertical-align: top;\n",
       "    }\n",
       "\n",
       "    .dataframe thead th {\n",
       "        text-align: right;\n",
       "    }\n",
       "</style>\n",
       "<table border=\"1\" class=\"dataframe\">\n",
       "  <thead>\n",
       "    <tr style=\"text-align: right;\">\n",
       "      <th></th>\n",
       "      <th>protocol__name</th>\n",
       "      <th>experiment__name</th>\n",
       "      <th>experiment__trial_id</th>\n",
       "      <th>plot__name</th>\n",
       "      <th>plot__lookup_key</th>\n",
       "      <th>sample__name</th>\n",
       "      <th>sample__planned_growth_stage</th>\n",
       "      <th>sample__items_per_sample</th>\n",
       "      <th>measurement_name</th>\n",
       "      <th>measurement_date</th>\n",
       "      <th>analytical_method</th>\n",
       "      <th>variable</th>\n",
       "      <th>value</th>\n",
       "    </tr>\n",
       "  </thead>\n",
       "  <tbody>\n",
       "    <tr>\n",
       "      <th>0</th>\n",
       "      <td>20-ZEAMX-US403</td>\n",
       "      <td>FTR355</td>\n",
       "      <td>nine-texas-march-texas-chicken-hotel</td>\n",
       "      <td>FTR355.BLOCK01.REP01.PLOT101</td>\n",
       "      <td>101</td>\n",
       "      <td>FTR355.BLOCK01.REP01.PLOT101.T.002</td>\n",
       "      <td>VT</td>\n",
       "      <td>3</td>\n",
       "      <td>FTR355.BLOCK01.REP01.PLOT101.T.002.01</td>\n",
       "      <td>2020-08-07 13:32:59</td>\n",
       "      <td>NaN</td>\n",
       "      <td>dry_weight_g</td>\n",
       "      <td>361.5</td>\n",
       "    </tr>\n",
       "    <tr>\n",
       "      <th>1</th>\n",
       "      <td>20-ZEAMX-US403</td>\n",
       "      <td>FTR336</td>\n",
       "      <td>may-march-bacon-winter-batman-white</td>\n",
       "      <td>FTR336.BLOCK01.REP01.PLOT101</td>\n",
       "      <td>101</td>\n",
       "      <td>FTR336.BLOCK01.REP01.PLOT101.T.003</td>\n",
       "      <td>VT</td>\n",
       "      <td>3</td>\n",
       "      <td>FTR336.BLOCK01.REP01.PLOT101.T.003.01</td>\n",
       "      <td>2020-10-12 12:27:00</td>\n",
       "      <td>NaN</td>\n",
       "      <td>dry_weight_g</td>\n",
       "      <td>255.0</td>\n",
       "    </tr>\n",
       "    <tr>\n",
       "      <th>2</th>\n",
       "      <td>20-ZEAMX-US403</td>\n",
       "      <td>FTR336</td>\n",
       "      <td>may-march-bacon-winter-batman-white</td>\n",
       "      <td>FTR336.BLOCK01.REP02.PLOT201</td>\n",
       "      <td>201</td>\n",
       "      <td>FTR336.BLOCK01.REP02.PLOT201.T.003</td>\n",
       "      <td>VT</td>\n",
       "      <td>3</td>\n",
       "      <td>FTR336.BLOCK01.REP02.PLOT201.T.003.01</td>\n",
       "      <td>2020-10-12 12:27:00</td>\n",
       "      <td>NaN</td>\n",
       "      <td>dry_weight_g</td>\n",
       "      <td>311.7</td>\n",
       "    </tr>\n",
       "    <tr>\n",
       "      <th>3</th>\n",
       "      <td>20-ZEAMX-US403</td>\n",
       "      <td>FTR336</td>\n",
       "      <td>may-march-bacon-winter-batman-white</td>\n",
       "      <td>FTR336.BLOCK01.REP04.PLOT405</td>\n",
       "      <td>405</td>\n",
       "      <td>FTR336.BLOCK01.REP04.PLOT405.T.002</td>\n",
       "      <td>VT</td>\n",
       "      <td>3</td>\n",
       "      <td>FTR336.BLOCK01.REP04.PLOT405.T.002.01</td>\n",
       "      <td>2020-10-12 12:27:00</td>\n",
       "      <td>NaN</td>\n",
       "      <td>dry_weight_g</td>\n",
       "      <td>256.1</td>\n",
       "    </tr>\n",
       "    <tr>\n",
       "      <th>4</th>\n",
       "      <td>20-ZEAMX-US403</td>\n",
       "      <td>FTR336</td>\n",
       "      <td>may-march-bacon-winter-batman-white</td>\n",
       "      <td>FTR336.BLOCK01.REP04.PLOT409</td>\n",
       "      <td>409</td>\n",
       "      <td>FTR336.BLOCK01.REP04.PLOT409.T.002</td>\n",
       "      <td>VT</td>\n",
       "      <td>3</td>\n",
       "      <td>FTR336.BLOCK01.REP04.PLOT409.T.002.01</td>\n",
       "      <td>2020-10-12 12:27:00</td>\n",
       "      <td>NaN</td>\n",
       "      <td>dry_weight_g</td>\n",
       "      <td>269.9</td>\n",
       "    </tr>\n",
       "  </tbody>\n",
       "</table>\n",
       "</div>"
      ],
      "text/plain": [
       "   protocol__name experiment__name                  experiment__trial_id  \\\n",
       "0  20-ZEAMX-US403           FTR355  nine-texas-march-texas-chicken-hotel   \n",
       "1  20-ZEAMX-US403           FTR336   may-march-bacon-winter-batman-white   \n",
       "2  20-ZEAMX-US403           FTR336   may-march-bacon-winter-batman-white   \n",
       "3  20-ZEAMX-US403           FTR336   may-march-bacon-winter-batman-white   \n",
       "4  20-ZEAMX-US403           FTR336   may-march-bacon-winter-batman-white   \n",
       "\n",
       "                     plot__name  plot__lookup_key  \\\n",
       "0  FTR355.BLOCK01.REP01.PLOT101               101   \n",
       "1  FTR336.BLOCK01.REP01.PLOT101               101   \n",
       "2  FTR336.BLOCK01.REP02.PLOT201               201   \n",
       "3  FTR336.BLOCK01.REP04.PLOT405               405   \n",
       "4  FTR336.BLOCK01.REP04.PLOT409               409   \n",
       "\n",
       "                         sample__name sample__planned_growth_stage  \\\n",
       "0  FTR355.BLOCK01.REP01.PLOT101.T.002                           VT   \n",
       "1  FTR336.BLOCK01.REP01.PLOT101.T.003                           VT   \n",
       "2  FTR336.BLOCK01.REP02.PLOT201.T.003                           VT   \n",
       "3  FTR336.BLOCK01.REP04.PLOT405.T.002                           VT   \n",
       "4  FTR336.BLOCK01.REP04.PLOT409.T.002                           VT   \n",
       "\n",
       "   sample__items_per_sample                       measurement_name  \\\n",
       "0                         3  FTR355.BLOCK01.REP01.PLOT101.T.002.01   \n",
       "1                         3  FTR336.BLOCK01.REP01.PLOT101.T.003.01   \n",
       "2                         3  FTR336.BLOCK01.REP02.PLOT201.T.003.01   \n",
       "3                         3  FTR336.BLOCK01.REP04.PLOT405.T.002.01   \n",
       "4                         3  FTR336.BLOCK01.REP04.PLOT409.T.002.01   \n",
       "\n",
       "      measurement_date analytical_method      variable  value  \n",
       "0  2020-08-07 13:32:59               NaN  dry_weight_g  361.5  \n",
       "1  2020-10-12 12:27:00               NaN  dry_weight_g  255.0  \n",
       "2  2020-10-12 12:27:00               NaN  dry_weight_g  311.7  \n",
       "3  2020-10-12 12:27:00               NaN  dry_weight_g  256.1  \n",
       "4  2020-10-12 12:27:00               NaN  dry_weight_g  269.9  "
      ]
     },
     "execution_count": 7,
     "metadata": {},
     "output_type": "execute_result"
    }
   ],
   "source": [
    "dw = pd.read_csv(\"data/data_warehouse/dw_data.csv\")\n",
    "dw.head()"
   ]
  },
  {
   "cell_type": "code",
   "execution_count": 8,
   "metadata": {},
   "outputs": [
    {
     "data": {
      "text/html": [
       "<div>\n",
       "<style scoped>\n",
       "    .dataframe tbody tr th:only-of-type {\n",
       "        vertical-align: middle;\n",
       "    }\n",
       "\n",
       "    .dataframe tbody tr th {\n",
       "        vertical-align: top;\n",
       "    }\n",
       "\n",
       "    .dataframe thead th {\n",
       "        text-align: right;\n",
       "    }\n",
       "</style>\n",
       "<table border=\"1\" class=\"dataframe\">\n",
       "  <thead>\n",
       "    <tr style=\"text-align: right;\">\n",
       "      <th></th>\n",
       "      <th>protocol__name</th>\n",
       "      <th>experiment__name</th>\n",
       "      <th>Trial ID</th>\n",
       "      <th>plot__name</th>\n",
       "      <th>Plot No.</th>\n",
       "      <th>sample__name</th>\n",
       "      <th>sample__planned_growth_stage</th>\n",
       "      <th>sample__items_per_sample</th>\n",
       "      <th>measurement_name</th>\n",
       "      <th>measurement_date</th>\n",
       "      <th>analytical_method</th>\n",
       "      <th>variable</th>\n",
       "      <th>value</th>\n",
       "    </tr>\n",
       "  </thead>\n",
       "  <tbody>\n",
       "    <tr>\n",
       "      <th>7321</th>\n",
       "      <td>20-ZEAMX-US403</td>\n",
       "      <td>FTR336</td>\n",
       "      <td>may-march-bacon-winter-batman-white</td>\n",
       "      <td>FTR336.BLOCK01.REP02.PLOT202</td>\n",
       "      <td>202</td>\n",
       "      <td>FTR336.BLOCK01.REP02.PLOT202.T.003</td>\n",
       "      <td>VT</td>\n",
       "      <td>3</td>\n",
       "      <td>FTR336.BLOCK01.REP02.PLOT202.T.003.01</td>\n",
       "      <td>2020-10-12 12:27:00</td>\n",
       "      <td>combustion</td>\n",
       "      <td>n_pct</td>\n",
       "      <td>1.89</td>\n",
       "    </tr>\n",
       "  </tbody>\n",
       "</table>\n",
       "</div>"
      ],
      "text/plain": [
       "      protocol__name experiment__name                             Trial ID  \\\n",
       "7321  20-ZEAMX-US403           FTR336  may-march-bacon-winter-batman-white   \n",
       "\n",
       "                        plot__name  Plot No.  \\\n",
       "7321  FTR336.BLOCK01.REP02.PLOT202       202   \n",
       "\n",
       "                            sample__name sample__planned_growth_stage  \\\n",
       "7321  FTR336.BLOCK01.REP02.PLOT202.T.003                           VT   \n",
       "\n",
       "      sample__items_per_sample                       measurement_name  \\\n",
       "7321                         3  FTR336.BLOCK01.REP02.PLOT202.T.003.01   \n",
       "\n",
       "         measurement_date analytical_method variable  value  \n",
       "7321  2020-10-12 12:27:00        combustion    n_pct   1.89  "
      ]
     },
     "execution_count": 8,
     "metadata": {},
     "output_type": "execute_result"
    }
   ],
   "source": [
    "#rename columns for uniformity\n",
    "dw.rename(columns={'experiment__trial_id':'Trial ID','plot__lookup_key':'Plot No.'},inplace=True)\n",
    "dw.sample()"
   ]
  },
  {
   "cell_type": "code",
   "execution_count": 9,
   "metadata": {},
   "outputs": [
    {
     "data": {
      "text/html": [
       "<div>\n",
       "<style scoped>\n",
       "    .dataframe tbody tr th:only-of-type {\n",
       "        vertical-align: middle;\n",
       "    }\n",
       "\n",
       "    .dataframe tbody tr th {\n",
       "        vertical-align: top;\n",
       "    }\n",
       "\n",
       "    .dataframe thead th {\n",
       "        text-align: right;\n",
       "    }\n",
       "</style>\n",
       "<table border=\"1\" class=\"dataframe\">\n",
       "  <thead>\n",
       "    <tr style=\"text-align: right;\">\n",
       "      <th></th>\n",
       "      <th>protocol__name</th>\n",
       "      <th>experiment__name</th>\n",
       "      <th>Trial ID</th>\n",
       "      <th>plot__name</th>\n",
       "      <th>Plot No.</th>\n",
       "      <th>sample__name</th>\n",
       "      <th>sample__planned_growth_stage</th>\n",
       "      <th>sample__items_per_sample</th>\n",
       "      <th>measurement_name</th>\n",
       "      <th>measurement_date</th>\n",
       "      <th>analytical_method</th>\n",
       "      <th>variable</th>\n",
       "      <th>value</th>\n",
       "      <th>value_dw_adjusted</th>\n",
       "    </tr>\n",
       "  </thead>\n",
       "  <tbody>\n",
       "    <tr>\n",
       "      <th>993</th>\n",
       "      <td>20-ZEAMX-US403</td>\n",
       "      <td>FTR361</td>\n",
       "      <td>island-beryllium-idaho-wyoming-florida-nitrogen</td>\n",
       "      <td>FTR361.BLOCK01.REP01.PLOT101</td>\n",
       "      <td>101</td>\n",
       "      <td>FTR361.BLOCK01.REP01.PLOT101.T.001</td>\n",
       "      <td>V6-V7</td>\n",
       "      <td>5</td>\n",
       "      <td>FTR361.BLOCK01.REP01.PLOT101.T.001.01</td>\n",
       "      <td>2020-07-10 12:38:59</td>\n",
       "      <td>NaN</td>\n",
       "      <td>dry_weight_g</td>\n",
       "      <td>21.2</td>\n",
       "      <td>4.24</td>\n",
       "    </tr>\n",
       "  </tbody>\n",
       "</table>\n",
       "</div>"
      ],
      "text/plain": [
       "     protocol__name experiment__name  \\\n",
       "993  20-ZEAMX-US403           FTR361   \n",
       "\n",
       "                                            Trial ID  \\\n",
       "993  island-beryllium-idaho-wyoming-florida-nitrogen   \n",
       "\n",
       "                       plot__name  Plot No.  \\\n",
       "993  FTR361.BLOCK01.REP01.PLOT101       101   \n",
       "\n",
       "                           sample__name sample__planned_growth_stage  \\\n",
       "993  FTR361.BLOCK01.REP01.PLOT101.T.001                        V6-V7   \n",
       "\n",
       "     sample__items_per_sample                       measurement_name  \\\n",
       "993                         5  FTR361.BLOCK01.REP01.PLOT101.T.001.01   \n",
       "\n",
       "        measurement_date analytical_method      variable  value  \\\n",
       "993  2020-07-10 12:38:59               NaN  dry_weight_g   21.2   \n",
       "\n",
       "     value_dw_adjusted  \n",
       "993               4.24  "
      ]
     },
     "execution_count": 9,
     "metadata": {},
     "output_type": "execute_result"
    }
   ],
   "source": [
    "dw['value_dw_adjusted'] = dw['value']/dw['sample__items_per_sample']\n",
    "dw.sample()"
   ]
  },
  {
   "cell_type": "code",
   "execution_count": 10,
   "metadata": {},
   "outputs": [
    {
     "data": {
      "text/plain": [
       "protocol__name                     0\n",
       "experiment__name                   0\n",
       "Trial ID                           0\n",
       "plot__name                         0\n",
       "Plot No.                           0\n",
       "sample__name                       0\n",
       "sample__planned_growth_stage       0\n",
       "sample__items_per_sample           0\n",
       "measurement_name                   0\n",
       "measurement_date                   0\n",
       "analytical_method               3339\n",
       "variable                           0\n",
       "value                              0\n",
       "value_dw_adjusted                  0\n",
       "dtype: int64"
      ]
     },
     "execution_count": 10,
     "metadata": {},
     "output_type": "execute_result"
    }
   ],
   "source": [
    "dw.isnull().sum()"
   ]
  },
  {
   "cell_type": "code",
   "execution_count": 11,
   "metadata": {},
   "outputs": [
    {
     "name": "stdout",
     "output_type": "stream",
     "text": [
      "Agronomist df shape is (3852, 8)\n",
      "Date warehouse df shape is (7757, 14)\n"
     ]
    }
   ],
   "source": [
    "print(\"Agronomist df shape is\",df.shape)\n",
    "print(\"Date warehouse df shape is\", dw.shape)"
   ]
  },
  {
   "cell_type": "code",
   "execution_count": 12,
   "metadata": {},
   "outputs": [
    {
     "data": {
      "text/plain": [
       "Trial ID                          23\n",
       "reps                               6\n",
       "Plot No.                          81\n",
       "Rate Unit                          2\n",
       "Appl Timing                        2\n",
       "variable                           2\n",
       "value_agronomist                2366\n",
       "sample__planned_growth_stage       2\n",
       "dtype: int64"
      ]
     },
     "execution_count": 12,
     "metadata": {},
     "output_type": "execute_result"
    }
   ],
   "source": [
    "#number of unique items per column\n",
    "df.T.apply(lambda x: x.nunique(),axis=1)"
   ]
  },
  {
   "cell_type": "code",
   "execution_count": 13,
   "metadata": {},
   "outputs": [
    {
     "data": {
      "text/plain": [
       "protocol__name                     1\n",
       "experiment__name                  30\n",
       "Trial ID                          30\n",
       "plot__name                      1258\n",
       "Plot No.                          81\n",
       "sample__name                    2678\n",
       "sample__planned_growth_stage       2\n",
       "sample__items_per_sample           3\n",
       "measurement_name                3093\n",
       "measurement_date                  65\n",
       "analytical_method                  1\n",
       "variable                           3\n",
       "value                           4678\n",
       "value_dw_adjusted               4973\n",
       "dtype: int64"
      ]
     },
     "execution_count": 13,
     "metadata": {},
     "output_type": "execute_result"
    }
   ],
   "source": [
    "dw.T.apply(lambda x: x.nunique(),axis=1)"
   ]
  },
  {
   "cell_type": "code",
   "execution_count": 14,
   "metadata": {},
   "outputs": [
    {
     "data": {
      "text/plain": [
       "['eighteen-thirteen-foxtrot-cold-carbon-wolfram',\n",
       " 'nitrogen-alanine-queen-london-white-nineteen',\n",
       " 'connecticut-leopard-queen-vegan-low-artist',\n",
       " 'summer-freddie-colorado-fish-robert-hamper',\n",
       " 'may-march-bacon-winter-batman-white',\n",
       " 'lactose-vermont-crazy-echo-william-bravo',\n",
       " 'pizza-venus-fourteen-apart-sierra-crazy']"
      ]
     },
     "execution_count": 14,
     "metadata": {},
     "output_type": "execute_result"
    }
   ],
   "source": [
    "#finding experimental trial IDs present in the data warehouse data that are not present in the agronomist dataset\n",
    "list_df = df['Trial ID'].unique().tolist()\n",
    "list_dw = dw['Trial ID'].unique().tolist()\n",
    "list(set(list_dw)-set(list_df))"
   ]
  },
  {
   "cell_type": "code",
   "execution_count": 15,
   "metadata": {},
   "outputs": [
    {
     "name": "stdout",
     "output_type": "stream",
     "text": [
      "Unique variables in the data warehouse dataset are ['dry_weight_g' 'total_n_g' 'n_pct']\n",
      "Unique variables in the agronomist dataset are ['dry_weight_g' 'total_n_g']\n"
     ]
    }
   ],
   "source": [
    "print(\"Unique variables in the data warehouse dataset are\",dw.variable.unique())\n",
    "print(\"Unique variables in the agronomist dataset are\",df.variable.unique())"
   ]
  },
  {
   "cell_type": "markdown",
   "metadata": {},
   "source": [
    "* We can note that the data warehouse file has more unique trial ids than the trial ID column in the agronomist df, given we expect the datasets to be the same, some may be missing\n",
    "* The agronomist dataset also doesn't have the 'n_pct' variable "
   ]
  },
  {
   "cell_type": "code",
   "execution_count": 16,
   "metadata": {},
   "outputs": [],
   "source": [
    "'''merging the 2 datasets, given that we want to compare the values from both'''\n",
    "data = pd.merge(dw,df,how='left',left_on=['Trial ID','Plot No.','variable','sample__planned_growth_stage'],\n",
    "right_on=['Trial ID','Plot No.','variable','sample__planned_growth_stage'])"
   ]
  },
  {
   "cell_type": "code",
   "execution_count": 17,
   "metadata": {},
   "outputs": [
    {
     "data": {
      "text/html": [
       "<div>\n",
       "<style scoped>\n",
       "    .dataframe tbody tr th:only-of-type {\n",
       "        vertical-align: middle;\n",
       "    }\n",
       "\n",
       "    .dataframe tbody tr th {\n",
       "        vertical-align: top;\n",
       "    }\n",
       "\n",
       "    .dataframe thead th {\n",
       "        text-align: right;\n",
       "    }\n",
       "</style>\n",
       "<table border=\"1\" class=\"dataframe\">\n",
       "  <thead>\n",
       "    <tr style=\"text-align: right;\">\n",
       "      <th></th>\n",
       "      <th>protocol__name</th>\n",
       "      <th>experiment__name</th>\n",
       "      <th>Trial ID</th>\n",
       "      <th>plot__name</th>\n",
       "      <th>Plot No.</th>\n",
       "      <th>sample__name</th>\n",
       "      <th>sample__planned_growth_stage</th>\n",
       "      <th>sample__items_per_sample</th>\n",
       "      <th>measurement_name</th>\n",
       "      <th>measurement_date</th>\n",
       "      <th>analytical_method</th>\n",
       "      <th>variable</th>\n",
       "      <th>value</th>\n",
       "      <th>value_dw_adjusted</th>\n",
       "      <th>reps</th>\n",
       "      <th>Rate Unit</th>\n",
       "      <th>Appl Timing</th>\n",
       "      <th>value_agronomist</th>\n",
       "    </tr>\n",
       "  </thead>\n",
       "  <tbody>\n",
       "    <tr>\n",
       "      <th>7388</th>\n",
       "      <td>20-ZEAMX-US403</td>\n",
       "      <td>FTR338</td>\n",
       "      <td>four-georgia-march-fruit-alanine-steak</td>\n",
       "      <td>FTR338.BLOCK01.REP05.PLOT509</td>\n",
       "      <td>509</td>\n",
       "      <td>FTR338.BLOCK01.REP05.PLOT509.T.004</td>\n",
       "      <td>VT</td>\n",
       "      <td>1</td>\n",
       "      <td>FTR338.BLOCK01.REP05.PLOT509.T.004.01</td>\n",
       "      <td>2020-06-18 17:51:00</td>\n",
       "      <td>combustion</td>\n",
       "      <td>n_pct</td>\n",
       "      <td>1.66</td>\n",
       "      <td>1.66</td>\n",
       "      <td>NaN</td>\n",
       "      <td>NaN</td>\n",
       "      <td>NaN</td>\n",
       "      <td>NaN</td>\n",
       "    </tr>\n",
       "  </tbody>\n",
       "</table>\n",
       "</div>"
      ],
      "text/plain": [
       "      protocol__name experiment__name                                Trial ID  \\\n",
       "7388  20-ZEAMX-US403           FTR338  four-georgia-march-fruit-alanine-steak   \n",
       "\n",
       "                        plot__name  Plot No.  \\\n",
       "7388  FTR338.BLOCK01.REP05.PLOT509       509   \n",
       "\n",
       "                            sample__name sample__planned_growth_stage  \\\n",
       "7388  FTR338.BLOCK01.REP05.PLOT509.T.004                           VT   \n",
       "\n",
       "      sample__items_per_sample                       measurement_name  \\\n",
       "7388                         1  FTR338.BLOCK01.REP05.PLOT509.T.004.01   \n",
       "\n",
       "         measurement_date analytical_method variable  value  \\\n",
       "7388  2020-06-18 17:51:00        combustion    n_pct   1.66   \n",
       "\n",
       "      value_dw_adjusted  reps Rate Unit Appl Timing  value_agronomist  \n",
       "7388               1.66   NaN       NaN         NaN               NaN  "
      ]
     },
     "execution_count": 17,
     "metadata": {},
     "output_type": "execute_result"
    }
   ],
   "source": [
    "data.sample()"
   ]
  },
  {
   "cell_type": "code",
   "execution_count": 18,
   "metadata": {},
   "outputs": [
    {
     "data": {
      "text/html": [
       "<div>\n",
       "<style scoped>\n",
       "    .dataframe tbody tr th:only-of-type {\n",
       "        vertical-align: middle;\n",
       "    }\n",
       "\n",
       "    .dataframe tbody tr th {\n",
       "        vertical-align: top;\n",
       "    }\n",
       "\n",
       "    .dataframe thead th {\n",
       "        text-align: right;\n",
       "    }\n",
       "</style>\n",
       "<table border=\"1\" class=\"dataframe\">\n",
       "  <thead>\n",
       "    <tr style=\"text-align: right;\">\n",
       "      <th></th>\n",
       "      <th>Trial ID</th>\n",
       "      <th>plot</th>\n",
       "      <th>sample__planned_growth_stage</th>\n",
       "      <th>items_per_sample</th>\n",
       "      <th>variable</th>\n",
       "      <th>value_dw</th>\n",
       "      <th>value_dw_adjusted</th>\n",
       "      <th>value_agronomist</th>\n",
       "    </tr>\n",
       "  </thead>\n",
       "  <tbody>\n",
       "    <tr>\n",
       "      <th>144</th>\n",
       "      <td>four-georgia-march-fruit-alanine-steak</td>\n",
       "      <td>105</td>\n",
       "      <td>VT</td>\n",
       "      <td>1</td>\n",
       "      <td>dry_weight_g</td>\n",
       "      <td>112.3</td>\n",
       "      <td>112.3</td>\n",
       "      <td>105.27</td>\n",
       "    </tr>\n",
       "  </tbody>\n",
       "</table>\n",
       "</div>"
      ],
      "text/plain": [
       "                                   Trial ID  plot  \\\n",
       "144  four-georgia-march-fruit-alanine-steak   105   \n",
       "\n",
       "    sample__planned_growth_stage  items_per_sample      variable  value_dw  \\\n",
       "144                           VT                 1  dry_weight_g     112.3   \n",
       "\n",
       "     value_dw_adjusted  value_agronomist  \n",
       "144              112.3            105.27  "
      ]
     },
     "execution_count": 18,
     "metadata": {},
     "output_type": "execute_result"
    }
   ],
   "source": [
    "new_df = data.loc[:,['Trial ID','Plot No.','sample__planned_growth_stage','sample__items_per_sample','variable',\n",
    " 'value','value_dw_adjusted' ,'value_agronomist']]\n",
    "new_df.rename(columns={'Plot No.':'plot','sample__items_per_sample':'items_per_sample','value':'value_dw'},inplace=True)\n",
    "new_df.sample()"
   ]
  },
  {
   "cell_type": "code",
   "execution_count": 19,
   "metadata": {},
   "outputs": [
    {
     "data": {
      "text/html": [
       "<div>\n",
       "<style scoped>\n",
       "    .dataframe tbody tr th:only-of-type {\n",
       "        vertical-align: middle;\n",
       "    }\n",
       "\n",
       "    .dataframe tbody tr th {\n",
       "        vertical-align: top;\n",
       "    }\n",
       "\n",
       "    .dataframe thead th {\n",
       "        text-align: right;\n",
       "    }\n",
       "</style>\n",
       "<table border=\"1\" class=\"dataframe\">\n",
       "  <thead>\n",
       "    <tr style=\"text-align: right;\">\n",
       "      <th></th>\n",
       "      <th>Trial ID</th>\n",
       "      <th>plot</th>\n",
       "      <th>sample__planned_growth_stage</th>\n",
       "      <th>items_per_sample</th>\n",
       "      <th>variable</th>\n",
       "      <th>value_dw</th>\n",
       "      <th>value_dw_adjusted</th>\n",
       "      <th>value_agronomist</th>\n",
       "      <th>combination</th>\n",
       "    </tr>\n",
       "  </thead>\n",
       "  <tbody>\n",
       "    <tr>\n",
       "      <th>3582</th>\n",
       "      <td>september-oranges-crazy-florida-delta-monkey</td>\n",
       "      <td>202</td>\n",
       "      <td>V6-V7</td>\n",
       "      <td>5</td>\n",
       "      <td>total_n_g</td>\n",
       "      <td>0.65884</td>\n",
       "      <td>0.131768</td>\n",
       "      <td>0.132</td>\n",
       "      <td>202_total_n_g_V6-V7</td>\n",
       "    </tr>\n",
       "  </tbody>\n",
       "</table>\n",
       "</div>"
      ],
      "text/plain": [
       "                                          Trial ID  plot  \\\n",
       "3582  september-oranges-crazy-florida-delta-monkey   202   \n",
       "\n",
       "     sample__planned_growth_stage  items_per_sample   variable  value_dw  \\\n",
       "3582                        V6-V7                 5  total_n_g   0.65884   \n",
       "\n",
       "      value_dw_adjusted  value_agronomist          combination  \n",
       "3582           0.131768             0.132  202_total_n_g_V6-V7  "
      ]
     },
     "execution_count": 19,
     "metadata": {},
     "output_type": "execute_result"
    }
   ],
   "source": [
    "plot = new_df['plot'].astype('str')\n",
    "new_df['combination'] = plot + \"_\" + new_df['variable'] + \"_\" +new_df['sample__planned_growth_stage'] \n",
    "new_df.sample()"
   ]
  },
  {
   "cell_type": "code",
   "execution_count": 20,
   "metadata": {},
   "outputs": [],
   "source": [
    "combinations = new_df.combination.value_counts()\n",
    "x = []\n",
    "for i in new_df.combination:\n",
    "    for index, value in combinations.items():\n",
    "        if i == index:\n",
    "            x.append(value)\n",
    "\n",
    "new_df['n_samples'] = x\n",
    "new_df.drop(['combination'],axis=1,inplace=True)"
   ]
  },
  {
   "cell_type": "code",
   "execution_count": 21,
   "metadata": {},
   "outputs": [
    {
     "data": {
      "text/html": [
       "<div>\n",
       "<style scoped>\n",
       "    .dataframe tbody tr th:only-of-type {\n",
       "        vertical-align: middle;\n",
       "    }\n",
       "\n",
       "    .dataframe tbody tr th {\n",
       "        vertical-align: top;\n",
       "    }\n",
       "\n",
       "    .dataframe thead th {\n",
       "        text-align: right;\n",
       "    }\n",
       "</style>\n",
       "<table border=\"1\" class=\"dataframe\">\n",
       "  <thead>\n",
       "    <tr style=\"text-align: right;\">\n",
       "      <th></th>\n",
       "      <th>Trial ID</th>\n",
       "      <th>plot</th>\n",
       "      <th>sample__planned_growth_stage</th>\n",
       "      <th>items_per_sample</th>\n",
       "      <th>variable</th>\n",
       "      <th>value_dw</th>\n",
       "      <th>value_dw_adjusted</th>\n",
       "      <th>value_agronomist</th>\n",
       "      <th>n_samples</th>\n",
       "    </tr>\n",
       "  </thead>\n",
       "  <tbody>\n",
       "    <tr>\n",
       "      <th>2554</th>\n",
       "      <td>tennis-sixteen-grey-ink-white-louisiana</td>\n",
       "      <td>108</td>\n",
       "      <td>VT</td>\n",
       "      <td>3</td>\n",
       "      <td>total_n_g</td>\n",
       "      <td>8.6652</td>\n",
       "      <td>2.8884</td>\n",
       "      <td>2.89</td>\n",
       "      <td>38</td>\n",
       "    </tr>\n",
       "  </tbody>\n",
       "</table>\n",
       "</div>"
      ],
      "text/plain": [
       "                                     Trial ID  plot  \\\n",
       "2554  tennis-sixteen-grey-ink-white-louisiana   108   \n",
       "\n",
       "     sample__planned_growth_stage  items_per_sample   variable  value_dw  \\\n",
       "2554                           VT                 3  total_n_g    8.6652   \n",
       "\n",
       "      value_dw_adjusted  value_agronomist  n_samples  \n",
       "2554             2.8884              2.89         38  "
      ]
     },
     "execution_count": 21,
     "metadata": {},
     "output_type": "execute_result"
    }
   ],
   "source": [
    "new_df.sample()"
   ]
  },
  {
   "cell_type": "code",
   "execution_count": 22,
   "metadata": {},
   "outputs": [],
   "source": [
    "#save as csv file\n",
    "#new_df.to_csv('data/data.csv',index=False)"
   ]
  },
  {
   "cell_type": "code",
   "execution_count": 23,
   "metadata": {},
   "outputs": [
    {
     "data": {
      "image/png": "[encoded data removed]",
      "text/plain": [
       "<Figure size 432x288 with 1 Axes>"
      ]
     },
     "metadata": {
      "needs_background": "light"
     },
     "output_type": "display_data"
    }
   ],
   "source": [
    "sns.scatterplot(data=new_df, x = \"value_dw_adjusted\",y = \"value_agronomist\", hue = \"variable\")\n",
    "plt.show()"
   ]
  },
  {
   "cell_type": "code",
   "execution_count": 24,
   "metadata": {},
   "outputs": [
    {
     "data": {
      "text/html": [
       "<div>\n",
       "<style scoped>\n",
       "    .dataframe tbody tr th:only-of-type {\n",
       "        vertical-align: middle;\n",
       "    }\n",
       "\n",
       "    .dataframe tbody tr th {\n",
       "        vertical-align: top;\n",
       "    }\n",
       "\n",
       "    .dataframe thead th {\n",
       "        text-align: right;\n",
       "    }\n",
       "</style>\n",
       "<table border=\"1\" class=\"dataframe\">\n",
       "  <thead>\n",
       "    <tr style=\"text-align: right;\">\n",
       "      <th></th>\n",
       "      <th>value_agronomist</th>\n",
       "      <th>value_dw_adjusted</th>\n",
       "    </tr>\n",
       "    <tr>\n",
       "      <th>variable</th>\n",
       "      <th></th>\n",
       "      <th></th>\n",
       "    </tr>\n",
       "  </thead>\n",
       "  <tbody>\n",
       "    <tr>\n",
       "      <th>dry_weight_g</th>\n",
       "      <td>63.370616</td>\n",
       "      <td>65.928120</td>\n",
       "    </tr>\n",
       "    <tr>\n",
       "      <th>n_pct</th>\n",
       "      <td>NaN</td>\n",
       "      <td>0.835545</td>\n",
       "    </tr>\n",
       "    <tr>\n",
       "      <th>total_n_g</th>\n",
       "      <td>1.076731</td>\n",
       "      <td>1.141038</td>\n",
       "    </tr>\n",
       "  </tbody>\n",
       "</table>\n",
       "</div>"
      ],
      "text/plain": [
       "              value_agronomist  value_dw_adjusted\n",
       "variable                                         \n",
       "dry_weight_g         63.370616          65.928120\n",
       "n_pct                      NaN           0.835545\n",
       "total_n_g             1.076731           1.141038"
      ]
     },
     "execution_count": 24,
     "metadata": {},
     "output_type": "execute_result"
    }
   ],
   "source": [
    "var = new_df.groupby('variable').agg({'value_agronomist':'mean','value_dw_adjusted':'mean'})\n",
    "var"
   ]
  },
  {
   "cell_type": "markdown",
   "metadata": {},
   "source": [
    "* the warehouse dataset probably has higher averages because it has more trial IDs than the agronomist data\n",
    "* create a new merged df (inner) with the same trial IDs and see if the values are the same"
   ]
  },
  {
   "cell_type": "code",
   "execution_count": 34,
   "metadata": {},
   "outputs": [
    {
     "data": {
      "text/plain": [
       "(3852, 8)"
      ]
     },
     "execution_count": 34,
     "metadata": {},
     "output_type": "execute_result"
    }
   ],
   "source": [
    "df.shape"
   ]
  },
  {
   "cell_type": "code",
   "execution_count": 38,
   "metadata": {},
   "outputs": [
    {
     "data": {
      "text/html": [
       "<div>\n",
       "<style scoped>\n",
       "    .dataframe tbody tr th:only-of-type {\n",
       "        vertical-align: middle;\n",
       "    }\n",
       "\n",
       "    .dataframe tbody tr th {\n",
       "        vertical-align: top;\n",
       "    }\n",
       "\n",
       "    .dataframe thead th {\n",
       "        text-align: right;\n",
       "    }\n",
       "</style>\n",
       "<table border=\"1\" class=\"dataframe\">\n",
       "  <thead>\n",
       "    <tr style=\"text-align: right;\">\n",
       "      <th></th>\n",
       "      <th>Trial ID</th>\n",
       "      <th>plot</th>\n",
       "      <th>sample__planned_growth_stage</th>\n",
       "      <th>items_per_sample</th>\n",
       "      <th>variable</th>\n",
       "      <th>value_dw</th>\n",
       "      <th>value_dw_adjusted</th>\n",
       "      <th>value_agronomist</th>\n",
       "    </tr>\n",
       "  </thead>\n",
       "  <tbody>\n",
       "    <tr>\n",
       "      <th>1196</th>\n",
       "      <td>diet-victor-floor-pluto-fix-pizza</td>\n",
       "      <td>409</td>\n",
       "      <td>VT</td>\n",
       "      <td>1</td>\n",
       "      <td>dry_weight_g</td>\n",
       "      <td>109.9</td>\n",
       "      <td>109.9</td>\n",
       "      <td>134.1</td>\n",
       "    </tr>\n",
       "  </tbody>\n",
       "</table>\n",
       "</div>"
      ],
      "text/plain": [
       "                               Trial ID  plot sample__planned_growth_stage  \\\n",
       "1196  diet-victor-floor-pluto-fix-pizza   409                           VT   \n",
       "\n",
       "      items_per_sample      variable  value_dw  value_dw_adjusted  \\\n",
       "1196                 1  dry_weight_g     109.9              109.9   \n",
       "\n",
       "      value_agronomist  \n",
       "1196             134.1  "
      ]
     },
     "execution_count": 38,
     "metadata": {},
     "output_type": "execute_result"
    }
   ],
   "source": [
    "var_df = pd.merge(df,dw,how='inner', on=['Trial ID','Plot No.','sample__planned_growth_stage','variable'])\n",
    "#retain relevant columns\n",
    "var_df = var_df.loc[:,['Trial ID','Plot No.','sample__planned_growth_stage','sample__items_per_sample','variable',\n",
    " 'value','value_dw_adjusted' ,'value_agronomist']]\n",
    "var_df.rename(columns={'Plot No.':'plot','sample__items_per_sample':'items_per_sample','value':'value_dw'},inplace=True)\n",
    "var_df.sample()"
   ]
  },
  {
   "cell_type": "code",
   "execution_count": 39,
   "metadata": {},
   "outputs": [
    {
     "data": {
      "text/plain": [
       "(3675, 8)"
      ]
     },
     "execution_count": 39,
     "metadata": {},
     "output_type": "execute_result"
    }
   ],
   "source": [
    "var_df.shape"
   ]
  },
  {
   "cell_type": "code",
   "execution_count": 40,
   "metadata": {},
   "outputs": [
    {
     "data": {
      "text/html": [
       "<div>\n",
       "<style scoped>\n",
       "    .dataframe tbody tr th:only-of-type {\n",
       "        vertical-align: middle;\n",
       "    }\n",
       "\n",
       "    .dataframe tbody tr th {\n",
       "        vertical-align: top;\n",
       "    }\n",
       "\n",
       "    .dataframe thead th {\n",
       "        text-align: right;\n",
       "    }\n",
       "</style>\n",
       "<table border=\"1\" class=\"dataframe\">\n",
       "  <thead>\n",
       "    <tr style=\"text-align: right;\">\n",
       "      <th></th>\n",
       "      <th>value_agronomist</th>\n",
       "      <th>value_dw_adjusted</th>\n",
       "    </tr>\n",
       "    <tr>\n",
       "      <th>variable</th>\n",
       "      <th></th>\n",
       "      <th></th>\n",
       "    </tr>\n",
       "  </thead>\n",
       "  <tbody>\n",
       "    <tr>\n",
       "      <th>dry_weight_g</th>\n",
       "      <td>63.370616</td>\n",
       "      <td>62.291187</td>\n",
       "    </tr>\n",
       "    <tr>\n",
       "      <th>total_n_g</th>\n",
       "      <td>1.076731</td>\n",
       "      <td>1.080787</td>\n",
       "    </tr>\n",
       "  </tbody>\n",
       "</table>\n",
       "</div>"
      ],
      "text/plain": [
       "              value_agronomist  value_dw_adjusted\n",
       "variable                                         \n",
       "dry_weight_g         63.370616          62.291187\n",
       "total_n_g             1.076731           1.080787"
      ]
     },
     "execution_count": 40,
     "metadata": {},
     "output_type": "execute_result"
    }
   ],
   "source": [
    "new_var = var_df.groupby('variable').agg({'value_agronomist':'mean','value_dw_adjusted':'mean'})\n",
    "new_var"
   ]
  },
  {
   "cell_type": "code",
   "execution_count": 41,
   "metadata": {},
   "outputs": [
    {
     "data": {
      "text/plain": [
       "721"
      ]
     },
     "execution_count": 41,
     "metadata": {},
     "output_type": "execute_result"
    }
   ],
   "source": [
    "var_df.value_dw_adjusted.isin(var_df.value_agronomist).sum()"
   ]
  },
  {
   "cell_type": "markdown",
   "metadata": {},
   "source": [
    "* Based on how the merging was done, given that the 2 datasets should be identical we expect the values from the agronomist and warehouse datasets to be equal\n",
    "* But we see that only 721 entries out of 3675 entries, which could be explained by uploading errors and different normalization processes during upload\n",
    "* we create a new column 'diff' to investigate these differences between the 2 values "
   ]
  },
  {
   "cell_type": "code",
   "execution_count": 51,
   "metadata": {},
   "outputs": [
    {
     "data": {
      "text/plain": [
       "count    3675.000000\n",
       "mean        0.541667\n",
       "std        14.211313\n",
       "min       -97.066667\n",
       "25%        -0.000416\n",
       "50%         0.000000\n",
       "75%         0.000360\n",
       "max       104.600000\n",
       "Name: diff, dtype: float64"
      ]
     },
     "execution_count": 51,
     "metadata": {},
     "output_type": "execute_result"
    }
   ],
   "source": [
    "var_df['diff'] = var_df['value_agronomist'] - var_df['value_dw_adjusted']\n",
    "var_df['diff'].describe()"
   ]
  },
  {
   "cell_type": "code",
   "execution_count": 75,
   "metadata": {},
   "outputs": [
    {
     "data": {
      "text/plain": [
       "0.9    0.470696\n",
       "Name: diff, dtype: float64"
      ]
     },
     "execution_count": 75,
     "metadata": {},
     "output_type": "execute_result"
    }
   ],
   "source": [
    "var_df['diff'].quantile([.90])"
   ]
  },
  {
   "cell_type": "code",
   "execution_count": 76,
   "metadata": {},
   "outputs": [
    {
     "data": {
      "text/plain": [
       "bakerloo-thirteen-xray-muppet-maine-coffee    108\n",
       "four-georgia-march-fruit-alanine-steak         80\n",
       "diet-victor-floor-pluto-fix-pizza              60\n",
       "asparagus-zebra-low-winner-floor-december      54\n",
       "red-maine-artist-south-wisconsin-october       48\n",
       "delaware-queen-angel-artist-green-south        18\n",
       "Name: Trial ID, dtype: int64"
      ]
     },
     "execution_count": 76,
     "metadata": {},
     "output_type": "execute_result"
    }
   ],
   "source": [
    "x = var_df[var_df['diff'] >0.470696]\n",
    "x['Trial ID'].value_counts()"
   ]
  },
  {
   "cell_type": "code",
   "execution_count": 77,
   "metadata": {},
   "outputs": [
    {
     "data": {
      "text/plain": [
       "dry_weight_g    307\n",
       "total_n_g        61\n",
       "Name: variable, dtype: int64"
      ]
     },
     "execution_count": 77,
     "metadata": {},
     "output_type": "execute_result"
    }
   ],
   "source": [
    "x['variable'].value_counts()"
   ]
  },
  {
   "cell_type": "code",
   "execution_count": 30,
   "metadata": {},
   "outputs": [],
   "source": [
    "agro = df.loc[:,['Trial ID','Plot No.','variable','value_agronomist']]\n",
    "agro.rename(columns={'value_agronomist':'value'},inplace=True)\n",
    "warehouse = dw.loc[:,['Trial ID','Plot No.','variable','value_dw_adjusted']]\n",
    "warehouse.rename(columns={'value_dw_adjusted':'value'},inplace=True)"
   ]
  },
  {
   "cell_type": "code",
   "execution_count": 31,
   "metadata": {},
   "outputs": [
    {
     "name": "stdout",
     "output_type": "stream",
     "text": [
      "DataComPy Comparison\n",
      "--------------------\n",
      "\n",
      "DataFrame Summary\n",
      "-----------------\n",
      "\n",
      "            DataFrame  Columns  Rows\n",
      "0  agronomics dataset        4  3852\n",
      "1   warehouse dataset        4  7757\n",
      "\n",
      "Column Summary\n",
      "--------------\n",
      "\n",
      "Number of columns in common: 4\n",
      "Number of columns in agronomics dataset but not in warehouse dataset: 0\n",
      "Number of columns in warehouse dataset but not in agronomics dataset: 0\n",
      "\n",
      "Row Summary\n",
      "-----------\n",
      "\n",
      "Matched on: trial id, plot no.\n",
      "Any duplicates on match values: Yes\n",
      "Absolute Tolerance: 0\n",
      "Relative Tolerance: 0\n",
      "Number of rows in common: 3,387\n",
      "Number of rows in agronomics dataset but not in warehouse dataset: 465\n",
      "Number of rows in warehouse dataset but not in agronomics dataset: 4,370\n",
      "\n",
      "Number of rows with some compared columns unequal: 3,015\n",
      "Number of rows with all compared columns equal: 372\n",
      "\n",
      "Column Comparison\n",
      "-----------------\n",
      "\n",
      "Number of columns compared with some values unequal: 2\n",
      "Number of columns compared with all values equal: 2\n",
      "Total number of values which compare unequal: 4,456\n",
      "\n",
      "Columns with Unequal Values or Types\n",
      "------------------------------------\n",
      "\n",
      "     Column agronomics dataset dtype warehouse dataset dtype  # Unequal   Max Diff  # Null Diff\n",
      "1     value                  float64                 float64       3015  228.75714            0\n",
      "0  variable                   object                  object       1441    0.00000            0\n",
      "\n",
      "Sample Rows with Unequal Values\n",
      "-------------------------------\n",
      "\n",
      "                                             trial id  plot no. variable (agronomics dataset) variable (warehouse dataset)\n",
      "86                 alanine-cup-tango-hotel-oven-pasta       305                     total_n_g                 dry_weight_g\n",
      "2574             nine-texas-march-texas-chicken-hotel       107                     total_n_g                        n_pct\n",
      "666      bravo-arizona-sixteen-eighteen-hot-spaghetti       104                  dry_weight_g                    total_n_g\n",
      "795        carolina-earth-spring-carpet-winner-eleven       407                     total_n_g                 dry_weight_g\n",
      "3588   washington-uranus-eighteen-queen-cardinal-cola       107                  dry_weight_g                    total_n_g\n",
      "1827  island-beryllium-idaho-wyoming-florida-nitrogen       407                     total_n_g                 dry_weight_g\n",
      "99                 alanine-cup-tango-hotel-oven-pasta       409                     total_n_g                 dry_weight_g\n",
      "2276        maryland-summer-nuts-march-minnesota-lamp       102                  dry_weight_g                    total_n_g\n",
      "3024         red-maine-artist-south-wisconsin-october       109                     total_n_g                 dry_weight_g\n",
      "977           delaware-queen-angel-artist-green-south       207                  dry_weight_g                    total_n_g\n",
      "\n",
      "                                             trial id  plot no.  value (agronomics dataset)  value (warehouse dataset)\n",
      "3045         red-maine-artist-south-wisconsin-october       402                       0.780                   1.007500\n",
      "3579   washington-uranus-eighteen-queen-cardinal-cola       408                      72.130                   0.175158\n",
      "3792              zebra-fillet-moon-sweet-harry-april       109                      26.930                   0.522507\n",
      "2471  mountain-november-chicken-avocado-magazine-oven       405                       2.202                   2.202060\n",
      "617      bravo-arizona-sixteen-eighteen-hot-spaghetti       606                       0.415                  83.500000\n",
      "348         asparagus-zebra-low-winner-floor-december       109                       1.602                  74.200000\n",
      "3075     september-oranges-crazy-florida-delta-monkey       112                       3.680                 130.800000\n",
      "3752              zebra-fillet-moon-sweet-harry-april       307                       0.000                   0.614000\n",
      "713      bravo-arizona-sixteen-eighteen-hot-spaghetti       607                       0.937                   0.937037\n",
      "3265     september-oranges-crazy-florida-delta-monkey       204                       2.276                   0.112220\n",
      "\n",
      "Sample Rows Only in agronomics dataset (First 10 Columns)\n",
      "---------------------------------------------------------\n",
      "\n",
      "                                             trial id  plot no.      variable  value\n",
      "2680             nine-texas-march-texas-chicken-hotel       506     total_n_g  0.000\n",
      "1725           harry-oklahoma-cat-edward-early-butter       405     total_n_g  1.389\n",
      "3428          tennis-sixteen-grey-ink-white-louisiana       309  dry_weight_g  0.000\n",
      "2963         red-maine-artist-south-wisconsin-october       606  dry_weight_g  0.000\n",
      "1973  island-beryllium-idaho-wyoming-florida-nitrogen       604     total_n_g  0.000\n",
      "370         asparagus-zebra-low-winner-floor-december       503     total_n_g  0.000\n",
      "1583           harry-oklahoma-cat-edward-early-butter       606  dry_weight_g  0.000\n",
      "2823    oklahoma-blossom-april-ceiling-virginia-river       409     total_n_g  1.563\n",
      "2685             nine-texas-march-texas-chicken-hotel       405     total_n_g  2.914\n",
      "2632             nine-texas-march-texas-chicken-hotel       507  dry_weight_g  0.000\n",
      "\n",
      "Sample Rows Only in warehouse dataset (First 10 Columns)\n",
      "--------------------------------------------------------\n",
      "\n",
      "                                           trial id  plot no.      variable     value\n",
      "8087     carolina-earth-spring-carpet-winner-eleven       404         n_pct  0.623333\n",
      "5558            may-march-bacon-winter-batman-white       503         n_pct  0.513333\n",
      "6842            zebra-fillet-moon-sweet-harry-april       108         n_pct  0.653333\n",
      "7531       red-maine-artist-south-wisconsin-october       107         n_pct  1.410121\n",
      "4048     summer-freddie-colorado-fish-robert-hamper       106  dry_weight_g  7.180000\n",
      "5729         four-georgia-march-fruit-alanine-steak       507         n_pct  1.890000\n",
      "6186            zebra-fillet-moon-sweet-harry-april       606         n_pct  0.648000\n",
      "4390            may-march-bacon-winter-batman-white       207     total_n_g  1.605633\n",
      "5430  eighteen-thirteen-foxtrot-cold-carbon-wolfram       204     total_n_g  1.349400\n",
      "4534  eighteen-thirteen-foxtrot-cold-carbon-wolfram       309     total_n_g  1.844370\n",
      "\n",
      "\n"
     ]
    }
   ],
   "source": [
    "compare = datacompy.Compare(agro,warehouse,join_columns=['Trial ID','Plot No.'],df1_name='agronomics dataset', df2_name='warehouse dataset')\n",
    "print(compare.report())"
   ]
  }
 ],
 "metadata": {
  "interpreter": {
   "hash": "247ab06e135bb35fa78c5eff31b2a9a0050dcb5fb773c2631d2a29ac689eeccb"
  },
  "kernelspec": {
   "display_name": "Python 3.9.7 64-bit",
   "name": "python3"
  },
  "language_info": {
   "codemirror_mode": {
    "name": "ipython",
    "version": 3
   },
   "file_extension": ".py",
   "mimetype": "text/x-python",
   "name": "python",
   "nbconvert_exporter": "python",
   "pygments_lexer": "ipython3",
   "version": "3.9.7"
  },
  "orig_nbformat": 4
 },
 "nbformat": 4,
 "nbformat_minor": 2
}
